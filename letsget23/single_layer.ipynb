{
 "cells": [
  {
   "cell_type": "code",
   "execution_count": 1,
   "metadata": {
    "collapsed": true
   },
   "outputs": [],
   "source": [
    "import numpy as np\n",
    "%matplotlib inline\n",
    "import matplotlib.pyplot as plt"
   ]
  },
  {
   "cell_type": "code",
   "execution_count": 2,
   "metadata": {},
   "outputs": [
    {
     "data": {
      "text/plain": [
       "0.8731176810398769"
      ]
     },
     "execution_count": 2,
     "metadata": {},
     "output_type": "execute_result"
    }
   ],
   "source": [
    "# uniform 분포 주사위 분포\n",
    "np.random.uniform(low=0.0, high=1.0)"
   ]
  },
  {
   "cell_type": "markdown",
   "metadata": {},
   "source": [
    "## Generate Dataset"
   ]
  },
  {
   "cell_type": "code",
   "execution_count": 3,
   "metadata": {},
   "outputs": [
    {
     "name": "stdout",
     "output_type": "stream",
     "text": [
      "(100,)\n"
     ]
    },
    {
     "data": {
      "text/plain": [
       "array([ 0.86284255,  0.83862621,  0.5443087 ,  0.15268673,  0.33236392,\n",
       "        0.8570202 ,  0.07092154,  0.19204573,  0.73372428,  0.18450536])"
      ]
     },
     "execution_count": 3,
     "metadata": {},
     "output_type": "execute_result"
    }
   ],
   "source": [
    "x = np.random.uniform(low=0.0, high=1.0, size=100)\n",
    "print(x.shape)\n",
    "\n",
    "x[:10]"
   ]
  },
  {
   "cell_type": "code",
   "execution_count": 4,
   "metadata": {},
   "outputs": [
    {
     "name": "stdout",
     "output_type": "stream",
     "text": [
      "(100,)\n"
     ]
    },
    {
     "data": {
      "text/plain": [
       "array([ 0.42787751,  0.97010189,  0.04801786,  0.50268836,  0.08229988,\n",
       "        0.1386973 ,  0.34997605,  0.87052722,  0.54996296,  0.98108602])"
      ]
     },
     "execution_count": 4,
     "metadata": {},
     "output_type": "execute_result"
    }
   ],
   "source": [
    "x1 = np.random.uniform(low=0.0, high=1.0, size=100)\n",
    "print(x1.shape)\n",
    "\n",
    "x1[:10]"
   ]
  },
  {
   "cell_type": "code",
   "execution_count": 5,
   "metadata": {},
   "outputs": [
    {
     "name": "stdout",
     "output_type": "stream",
     "text": [
      "(100,)\n"
     ]
    },
    {
     "data": {
      "text/plain": [
       "array([ 0.11821357,  0.53303083,  0.95315903,  0.31861475,  0.85769167,\n",
       "        0.60635732,  0.36737935,  0.38095924,  0.65981863,  0.8156721 ])"
      ]
     },
     "execution_count": 5,
     "metadata": {},
     "output_type": "execute_result"
    }
   ],
   "source": [
    "x2 = np.random.uniform(low=0.0, high=1.0, size=100)\n",
    "print(x2.shape)\n",
    "\n",
    "x2[:10]"
   ]
  },
  {
   "cell_type": "code",
   "execution_count": 4,
   "metadata": {},
   "outputs": [
    {
     "name": "stdout",
     "output_type": "stream",
     "text": [
      "(100,)\n"
     ]
    },
    {
     "data": {
      "text/plain": [
       "array([ 0.36815687,  0.35575304,  0.2688629 ,  0.14998335,  0.20166705,\n",
       "        0.36545169,  0.12781575,  0.16334864,  0.32813406,  0.15622679])"
      ]
     },
     "execution_count": 4,
     "metadata": {},
     "output_type": "execute_result"
    }
   ],
   "source": [
    "y = x * 0.3 + (np.random.uniform(low=0.0, high=1.0, size=100) * 0.01)\n",
    "# + x2 * 0.5\n",
    "# + 0.1 bias\n",
    "print(y.shape)\n",
    "\n",
    "y[:10]"
   ]
  },
  {
   "cell_type": "code",
   "execution_count": 5,
   "metadata": {
    "scrolled": true
   },
   "outputs": [
    {
     "data": {
      "text/plain": [
       "<matplotlib.collections.PathCollection at 0x1164f2630>"
      ]
     },
     "execution_count": 5,
     "metadata": {},
     "output_type": "execute_result"
    },
    {
     "data": {
      "image/png": "[encoded data removed]",
      "text/plain": [
       "<matplotlib.figure.Figure at 0x1130f3160>"
      ]
     },
     "metadata": {},
     "output_type": "display_data"
    }
   ],
   "source": [
    "plt.scatter(x, y)"
   ]
  },
  {
   "cell_type": "markdown",
   "metadata": {},
   "source": [
    "## y = wx"
   ]
  },
  {
   "cell_type": "markdown",
   "metadata": {},
   "source": [
    "## Case 1 - Random Search"
   ]
  },
  {
   "cell_type": "code",
   "execution_count": 9,
   "metadata": {
    "collapsed": true
   },
   "outputs": [],
   "source": [
    "# num_epoch = 100\n",
    "\n",
    "# best_error = np.inf\n",
    "# best_w = None\n",
    "\n",
    "# for epoch in range(num_epoch):\n",
    "#     w = np.random.uniform(low=0.0, high=1.0)\n",
    "#     y_predict = x * w\n",
    "    \n",
    "#     error = np.abs(y_predict - y).mean()\n",
    "    \n",
    "#     if error < best_error:\n",
    "#         best_error = error\n",
    "#         best_w = w\n",
    "        \n",
    "#         print(\"{0:2} w = {1:.5f} error = {2:.5f}\".format(epoch, w, error))\n",
    "    \n",
    "# print(\"----\" * 10)\n",
    "# print(\"{0:2} w = {1:.5f} error = {2:.5f}\".format(epoch, best_w, best_error))"
   ]
  },
  {
   "cell_type": "code",
   "execution_count": 24,
   "metadata": {},
   "outputs": [
    {
     "name": "stdout",
     "output_type": "stream",
     "text": [
      " 0 w1 = 0.26351, w2 = 0.88314, b = 0.68613 error = 0.75437\n",
      " 1 w1 = 0.12299, w2 = 0.48308, b = 0.69306 error = 0.48742\n",
      " 2 w1 = 0.86456, w2 = 0.09342, b = 0.04478 error = 0.17809\n",
      " 9 w1 = 0.18736, w2 = 0.94329, b = 0.05042 error = 0.13755\n",
      "21 w1 = 0.19784, w2 = 0.92475, b = 0.05346 error = 0.13340\n",
      "38 w1 = 0.16158, w2 = 0.37666, b = 0.30375 error = 0.06974\n",
      "44 w1 = 0.29272, w2 = 0.31309, b = 0.15966 error = 0.05316\n",
      "64 w1 = 0.37179, w2 = 0.48826, b = 0.04024 error = 0.03395\n",
      "999 w1 = 0.23030, w2 = 0.59010, b = 0.07568 error = 0.03230\n",
      "1235 w1 = 0.23395, w2 = 0.45086, b = 0.18357 error = 0.02489\n",
      "1268 w1 = 0.26902, w2 = 0.55864, b = 0.08078 error = 0.01832\n",
      "1656 w1 = 0.28167, w2 = 0.47395, b = 0.13523 error = 0.00953\n",
      "----------------------------------------\n",
      "9999 w1 = 0.28167, w2 = 0.47395, b = 0.13523 error = 0.00953\n"
     ]
    }
   ],
   "source": [
    "num_epoch = 10000\n",
    "\n",
    "best_error = np.inf\n",
    "best_w1 = None\n",
    "best_w2 = None\n",
    "best_b = None\n",
    "\n",
    "for epoch in range(num_epoch):\n",
    "    w1 = np.random.uniform(low=0.0, high=1.0)\n",
    "    w2 = np.random.uniform(low=0.0, high=1.0)\n",
    "    b = np.random.uniform(low=0.0, high=1.0)\n",
    "    \n",
    "    y_predict = x1 * w1 + x2 * w2 + b\n",
    "    \n",
    "    error = np.abs(y_predict - y).mean()\n",
    "    \n",
    "    if error < best_error:\n",
    "        best_error = error\n",
    "        best_w1 = w1\n",
    "        best_w2 = w2\n",
    "        best_b = b\n",
    "        \n",
    "        print(\"{0:2} w1 = {1:.5f}, w2 = {2:.5f}, b = {3:.5f} error = {4:.5f}\".format(epoch, w1, w2, b, error))\n",
    "    \n",
    "print(\"----\" * 10)\n",
    "print(\"{0:2} w1 = {1:.5f}, w2 = {2:.5f}, b = {3:.5f} error = {4:.5f}\".format(epoch, best_w1, best_w2, best_b, best_error))"
   ]
  },
  {
   "cell_type": "markdown",
   "metadata": {},
   "source": [
    "## Case 2 - h-step Search"
   ]
  },
  {
   "cell_type": "code",
   "execution_count": 137,
   "metadata": {},
   "outputs": [
    {
     "name": "stdout",
     "output_type": "stream",
     "text": [
      "40 w = 0.30975 error = 0.00332\n"
     ]
    }
   ],
   "source": [
    "num_epoch = 1000\n",
    "\n",
    "w = np.random.uniform(low=0.0, high=1.0)\n",
    "h = 0.01\n",
    "\n",
    "for epoch in range(num_epoch):\n",
    "    y_predict = x * w\n",
    "    current_error = np.abs(y_predict - y).mean()\n",
    "    \n",
    "    y_predict = x * (w + h)\n",
    "    h_plus_error = np.abs(y_predict - y).mean()\n",
    "    if h_plus_error < current_error:\n",
    "        w = w + h\n",
    "        continue\n",
    "        \n",
    "    y_predict = x * (w - h)\n",
    "    h_minus_error = np.abs(y_predict - y).mean()\n",
    "    if h_minus_error < current_error:\n",
    "        w = w - h\n",
    "        continue\n",
    "        \n",
    "    break\n",
    "    \n",
    "print(\"{0:2} w = {1:.5f} error = {2:.5f}\".format(epoch, w, current_error))"
   ]
  },
  {
   "cell_type": "markdown",
   "metadata": {},
   "source": [
    "- w1, w2 집에서 짜보기"
   ]
  },
  {
   "cell_type": "markdown",
   "metadata": {},
   "source": [
    "## Case 3 - Gradient Descent"
   ]
  },
  {
   "cell_type": "code",
   "execution_count": 37,
   "metadata": {
    "collapsed": true,
    "scrolled": true
   },
   "outputs": [],
   "source": [
    "# num_epoch = 100\n",
    "\n",
    "# # w = np.random.uniform(low=0.0, high=1.0)\n",
    "# w = -9999\n",
    "\n",
    "# for epoch in range(num_epoch):\n",
    "#     y_predict = x * w\n",
    "    \n",
    "#     error = np.abs(y_predict - y).mean()\n",
    "#     if error < 0.005:\n",
    "#         break\n",
    "        \n",
    "#     w = w - (y_predict - y).mean()\n",
    "    \n",
    "#     print(\"{0:2} w = {1:.5f}, error = {2:.5f}\".format(epoch, w, error))\n",
    "\n",
    "# print(\"-----\" * 10)\n",
    "# print(\"{0:2} w = {1:.5f}, error = {2:.5f}\".format(epoch, w, error))"
   ]
  },
  {
   "cell_type": "code",
   "execution_count": 57,
   "metadata": {},
   "outputs": [
    {
     "name": "stdout",
     "output_type": "stream",
     "text": [
      " 0 w1 = 3538.59639, w2 = 2951.13520, b = 14248.35511, error = 20206.12926\n",
      "10 w1 = -88.91716, w2 = -505.27590, b = 4065.96122, error = 4224.84926\n",
      "20 w1 = -484.83158, w2 = -756.27151, b = 1456.03498, error = 870.80876\n",
      "30 w1 = -364.15864, w2 = -531.12343, b = 646.06739, error = 224.70759\n",
      "40 w1 = -224.57811, w2 = -323.75296, b = 328.58250, error = 101.27193\n",
      "50 w1 = -130.91473, w2 = -188.62607, b = 178.50774, error = 55.65032\n",
      "60 w1 = -74.87400, w2 = -108.04314, b = 99.69510, error = 31.38389\n",
      "70 w1 = -42.50557, w2 = -61.41145, b = 56.29891, error = 17.78398\n",
      "80 w1 = -24.02659, w2 = -34.72718, b = 31.94256, error = 10.09246\n",
      "90 w1 = -13.51701, w2 = -19.52407, b = 18.17111, error = 5.73097\n",
      "100 w1 = -7.54673, w2 = -10.87749, b = 10.36262, error = 3.25504\n",
      "110 w1 = -4.15608, w2 = -5.96346, b = 5.93044, error = 1.84890\n",
      "120 w1 = -2.23051, w2 = -3.17161, b = 3.41368, error = 1.05027\n",
      "130 w1 = -1.13693, w2 = -1.58567, b = 1.98434, error = 0.59666\n",
      "140 w1 = -0.51584, w2 = -0.68482, b = 1.17253, error = 0.33902\n",
      "150 w1 = -0.16308, w2 = -0.17314, b = 0.71145, error = 0.19269\n",
      "160 w1 = 0.03728, w2 = 0.11750, b = 0.44956, error = 0.10957\n",
      "170 w1 = 0.15107, w2 = 0.28257, b = 0.30081, error = 0.06236\n",
      "180 w1 = 0.21571, w2 = 0.37633, b = 0.21632, error = 0.03555\n",
      "190 w1 = 0.25242, w2 = 0.42959, b = 0.16834, error = 0.02032\n",
      "200 w1 = 0.27327, w2 = 0.45984, b = 0.14108, error = 0.01168\n",
      "210 w1 = 0.28511, w2 = 0.47702, b = 0.12560, error = 0.00693\n",
      "--------------------------------------------------\n",
      "218 w1 = 0.29021, w2 = 0.48440, b = 0.11894, error = 0.00481\n"
     ]
    }
   ],
   "source": [
    "num_epoch = 1000\n",
    "learning_rate = 1.2\n",
    "\n",
    "# w1 = np.random.uniform(low=0.0, high=1.0)\n",
    "# w2 = np.random.uniform(low=0.0, high=1.0)\n",
    "# b = np.random.uniform(low=0.0, high=1.0)\n",
    "w1 = -9999\n",
    "w2 = -9999\n",
    "b = -9999\n",
    "\n",
    "for epoch in range(num_epoch):\n",
    "    y_predict = x1 * w1 + x2 * w2 + b\n",
    "#     y_predict = x1 * w1 + x2 * w2 + x3(1) * b\n",
    "    \n",
    "    error = np.abs(y_predict - y).mean()\n",
    "    if error < 0.005:\n",
    "        break\n",
    "        \n",
    "    w1 = w1 - learning_rate * ((y_predict - y) * x1).mean()\n",
    "    w2 = w2 - learning_rate * ((y_predict - y) * x2).mean()\n",
    "    b = b - learning_rate * ((y_predict - y)).mean()\n",
    "    \n",
    "    if epoch % 10 == 0:\n",
    "        print(\"{0:2} w1 = {1:.5f}, w2 = {2:.5f}, b = {3:.5f}, error = {4:.5f}\".format(epoch, w1, w2, b, error))\n",
    "\n",
    "print(\"-----\" * 10)\n",
    "print(\"{0:2} w1 = {1:.5f}, w2 = {2:.5f}, b = {3:.5f}, error = {4:.5f}\".format(epoch, w1, w2, b, error))"
   ]
  }
 ],
 "metadata": {
  "kernelspec": {
   "display_name": "Python 3",
   "language": "python",
   "name": "python3"
  },
  "language_info": {
   "codemirror_mode": {
    "name": "ipython",
    "version": 3
   },
   "file_extension": ".py",
   "mimetype": "text/x-python",
   "name": "python",
   "nbconvert_exporter": "python",
   "pygments_lexer": "ipython3",
   "version": "3.6.1"
  }
 },
 "nbformat": 4,
 "nbformat_minor": 2
}
