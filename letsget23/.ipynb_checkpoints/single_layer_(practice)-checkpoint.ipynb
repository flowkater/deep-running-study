{
 "cells": [
  {
   "cell_type": "code",
   "execution_count": 1,
   "metadata": {
    "collapsed": true
   },
   "outputs": [],
   "source": [
    "import numpy as np\n",
    "%matplotlib inline\n",
    "import matplotlib.pyplot as plt"
   ]
  },
  {
   "cell_type": "code",
   "execution_count": 6,
   "metadata": {},
   "outputs": [
    {
     "data": {
      "text/plain": [
       "0.1432613239997167"
      ]
     },
     "execution_count": 6,
     "metadata": {},
     "output_type": "execute_result"
    }
   ],
   "source": [
    "# uniform 분포 주사위 분포\n",
    "np.random.uniform(low=0.0, high=1.0)"
   ]
  },
  {
   "cell_type": "markdown",
   "metadata": {},
   "source": [
    "# 이론\n",
    "### Uniform 분포\n",
    "- [연속균등분포](https://ko.wikipedia.org/wiki/%EC%97%B0%EC%86%8D%EA%B7%A0%EB%93%B1%EB%B6%84%ED%8F%AC)\n",
    "- [이산균등분포](https://ko.wikipedia.org/wiki/%EC%9D%B4%EC%82%B0%EA%B7%A0%EB%93%B1%EB%B6%84%ED%8F%AC)\n",
    "- [균등분포](http://ssacstat.com/default/cs/cs_05.php?com_board_basic=read_form&com_board_idx=724&topmenu=5&left=5&&com_board_search_code=&com_board_search_value1=&com_board_search_value2=&com_board_page=11&)\n",
    "- [균일분포](http://blog.naver.com/PostView.nhn?blogId=mykepzzang&logNo=220841578412&parentCategoryNo=38&categoryNo=&viewDate=&isShowPopularPosts=true&from=search)\n",
    "\n",
    "### Numpy\n",
    "\n",
    "- [numpy.random.uniform](https://docs.scipy.org/doc/numpy-1.13.0/reference/generated/numpy.random.uniform.html)"
   ]
  },
  {
   "cell_type": "code",
   "execution_count": 328,
   "metadata": {},
   "outputs": [
    {
     "name": "stdout",
     "output_type": "stream",
     "text": [
      "0.8902097817351468\n",
      "0.8328337525877859\n",
      "[ 0.32312938]\n",
      "[ 0.29877822]\n",
      "[ 0.25292021  0.32485411  0.69528436]\n",
      "[ 0.67141723  0.90108336  0.28789949]\n"
     ]
    }
   ],
   "source": [
    "# 0 <= x < 1 값을 반환한다\n",
    "print(np.random.uniform(0, 1))\n",
    "print(np.random.uniform(low = 0, high = 1))\n",
    "\n",
    "print(np.random.uniform(0, 1, 1))\n",
    "print(np.random.uniform(low = 0, high = 1, size = 1))\n",
    "\n",
    "print(np.random.uniform(0, 1, 3))\n",
    "print(np.random.uniform(low = 0, high = 1, size = 3))"
   ]
  },
  {
   "cell_type": "code",
   "execution_count": 452,
   "metadata": {
    "scrolled": false
   },
   "outputs": [
    {
     "name": "stdout",
     "output_type": "stream",
     "text": [
      "True\n",
      "True\n"
     ]
    },
    {
     "data": {
      "image/png": "[encoded data removed]",
      "text/plain": [
       "<matplotlib.figure.Figure at 0x11a6fda20>"
      ]
     },
     "metadata": {},
     "output_type": "display_data"
    },
    {
     "name": "stdout",
     "output_type": "stream",
     "text": [
      "1.05019573857\n"
     ]
    }
   ],
   "source": [
    "s = np.random.uniform(-1,0,100)\n",
    "print(np.all(s >= -1))\n",
    "print(np.all(s < 0))\n",
    "\n",
    "count, bins, ignored = plt.hist(s, 15, normed=True)\n",
    "plt.plot(bins, np.ones_like(bins), linewidth=2, color='r')\n",
    "plt.show()\n",
    "\n",
    "# print(count)\n",
    "# => Y축\n",
    "# [ 0.75627695  0.60502156  1.05878773  1.81506469  0.60502156  1.05878773\n",
    "#   0.90753234  0.60502156  1.81506469  0.60502156  1.05878773  1.36129851\n",
    "#   1.05878773  0.90753234  0.90753234]\n",
    "\n",
    "# print(bins)\n",
    "# => X축\n",
    "# [-0.99685636 -0.93074301 -0.86462966 -0.79851632 -0.73240297 -0.66628963\n",
    "#  -0.60017628 -0.53406293 -0.46794959 -0.40183624 -0.33572289 -0.26960955\n",
    "#  -0.2034962  -0.13738286 -0.07126951 -0.00515616]\n",
    "\n",
    "# print(ignored)\n",
    "# => <a list of 15 Patch objects>\n",
    "\n",
    "# print(np.ones_like(bins)) \n",
    "# => [ 1.  1.  1.  1.  1.  1.  1.  1.  1.  1.  1.  1.  1.  1.  1.  1.]\n",
    "# https://docs.scipy.org/doc/numpy-1.13.0/reference/generated/numpy.ones_like.html\n",
    "\n",
    "print(sum(count) / len(count))"
   ]
  },
  {
   "cell_type": "markdown",
   "metadata": {},
   "source": [
    "# Generate Dataset"
   ]
  },
  {
   "cell_type": "code",
   "execution_count": 358,
   "metadata": {
    "scrolled": false
   },
   "outputs": [
    {
     "name": "stdout",
     "output_type": "stream",
     "text": [
      "(100,)\n"
     ]
    },
    {
     "data": {
      "text/plain": [
       "array([ 0.05179053,  0.65777273,  0.63800063,  0.46828252,  0.05787632,\n",
       "        0.83367961,  0.57531839,  0.39867782,  0.26129961,  0.19497741])"
      ]
     },
     "execution_count": 358,
     "metadata": {},
     "output_type": "execute_result"
    }
   ],
   "source": [
    "x = np.random.uniform(low=0.0, high=1.0, size=100)\n",
    "print(x.shape)\n",
    "\n",
    "x[:10]"
   ]
  },
  {
   "cell_type": "code",
   "execution_count": 363,
   "metadata": {},
   "outputs": [
    {
     "name": "stdout",
     "output_type": "stream",
     "text": [
      "(100,)\n"
     ]
    },
    {
     "data": {
      "text/plain": [
       "array([ 0.01967572,  0.19837173,  0.19506487,  0.14402457,  0.01773629,\n",
       "        0.25801443,  0.17863285,  0.12288478,  0.08777162,  0.05855004])"
      ]
     },
     "execution_count": 363,
     "metadata": {},
     "output_type": "execute_result"
    }
   ],
   "source": [
    "y = x * 0.3 + (np.random.uniform(low=0.0, high=1.0, size=100) * 0.01)\n",
    "print(y.shape)\n",
    "\n",
    "y[:10]"
   ]
  },
  {
   "cell_type": "code",
   "execution_count": 364,
   "metadata": {},
   "outputs": [
    {
     "data": {
      "text/plain": [
       "<matplotlib.collections.PathCollection at 0x119be73c8>"
      ]
     },
     "execution_count": 364,
     "metadata": {},
     "output_type": "execute_result"
    },
    {
     "data": {
      "image/png": "[encoded data removed]",
      "text/plain": [
       "<matplotlib.figure.Figure at 0x119c1c048>"
      ]
     },
     "metadata": {},
     "output_type": "display_data"
    }
   ],
   "source": [
    "plt.scatter(x, y)"
   ]
  },
  {
   "cell_type": "markdown",
   "metadata": {},
   "source": [
    "> y = wx"
   ]
  },
  {
   "cell_type": "markdown",
   "metadata": {},
   "source": [
    "## Case 1 - Random Search"
   ]
  },
  {
   "cell_type": "code",
   "execution_count": 386,
   "metadata": {},
   "outputs": [
    {
     "name": "stdout",
     "output_type": "stream",
     "text": [
      " 0 w = 0.58783 error = 0.13388\n",
      " 1 w = 0.29778 error = 0.00585\n",
      "56 w = 0.30777 error = 0.00297\n",
      "----------------------------------------\n",
      "99 w = 0.30777 error = 0.00297\n"
     ]
    }
   ],
   "source": [
    "num_epoch = 100\n",
    "\n",
    "best_error = np.inf\n",
    "best_w = None\n",
    "\n",
    "for epoch in range(num_epoch):\n",
    "    w = np.random.uniform(low=0.0, high=1.0)\n",
    "    y_predict = x * w # 배열 * 스칼라 => 배열의 각 요소 * 스칼라 => 결과 배열\n",
    "    \n",
    "    error = np.abs(y_predict - y).mean() # 차이의 절대값의 평균 (즉, 식의 선에서 벗어난 정도를 뜻함)\n",
    "    \n",
    "    if error < best_error:\n",
    "        best_error = error\n",
    "        best_w = w\n",
    "        \n",
    "        print(\"{0:2} w = {1:.5f} error = {2:.5f}\".format(epoch, w, error))\n",
    "print(\"----\" * 10)\n",
    "print(\"{0:2} w = {1:.5f} error = {2:.5f}\".format(epoch, best_w, best_error))"
   ]
  },
  {
   "cell_type": "markdown",
   "metadata": {},
   "source": [
    "## Case 2 - h-step Search"
   ]
  },
  {
   "cell_type": "code",
   "execution_count": 471,
   "metadata": {},
   "outputs": [
    {
     "name": "stdout",
     "output_type": "stream",
     "text": [
      "a\n",
      "a\n",
      "a\n",
      "a\n",
      "a\n",
      "a\n",
      "a\n",
      "a\n",
      "a\n",
      "a\n",
      "10 w = 0.31208 error = 0.00366\n"
     ]
    }
   ],
   "source": [
    "num_epoch = 1000\n",
    "\n",
    "w = np.random.uniform(low=0.0, high=1.0)\n",
    "h = 0.01\n",
    "\n",
    "for epoch in range(num_epoch):\n",
    "    y_predict = x * w\n",
    "    current_error = np.abs(y_predict - y).mean()\n",
    "    \n",
    "    # 일단 한번 기울기가 변화하기 시작하면 계속 한쪽으로 흘러들어감\n",
    "    # 기울기가 커진다\n",
    "    y_predict = x * (w + h)\n",
    "    h_plus_error = np.abs(y_predict - y).mean()\n",
    "    if h_plus_error < current_error:\n",
    "        w = w + h\n",
    "        continue\n",
    "        \n",
    "    # 기울기가 작아진다\n",
    "    y_predict = x * (w - h)\n",
    "    h_minus_error = np.abs(y_predict - y).mean()\n",
    "    if h_minus_error < current_error:\n",
    "        w = w - h\n",
    "        continue\n",
    "        \n",
    "    break\n",
    "    \n",
    "print(\"{0:2} w = {1:.5f} error = {2:.5f}\".format(epoch, w, current_error))"
   ]
  },
  {
   "cell_type": "markdown",
   "metadata": {},
   "source": [
    "## Case 3 - Gradient Descent"
   ]
  },
  {
   "cell_type": "code",
   "execution_count": 245,
   "metadata": {},
   "outputs": [
    {
     "name": "stdout",
     "output_type": "stream",
     "text": [
      " 0 w = 0.40045, error = 0.09266\n",
      " 1 w = 0.35459, error = 0.04626\n",
      " 2 w = 0.33186, error = 0.02354\n",
      " 3 w = 0.32059, error = 0.01254\n",
      " 4 w = 0.31500, error = 0.00738\n",
      " 5 w = 0.31223, error = 0.00519\n",
      "--------------------------------------------------\n",
      " 6 w = 0.31223, error = 0.00435\n"
     ]
    }
   ],
   "source": [
    "num_epoch = 100\n",
    "\n",
    "w = np.random.uniform(low=0.0, high=1.0)\n",
    "\n",
    "for epoch in range(num_epoch):\n",
    "    y_predict = x * w\n",
    "    \n",
    "    error = np.abs(y_predict - y).mean()\n",
    "    if error < 0.005:\n",
    "        break\n",
    "        \n",
    "    w = w - (y_predict - y).mean()\n",
    "    \n",
    "    print(\"{0:2} w = {1:.5f}, error = {2:.5f}\".format(epoch, w, error))\n",
    "\n",
    "print(\"-----\" * 10)\n",
    "print(\"{0:2} w = {1:.5f}, error = {2:.5f}\".format(epoch, w, error))"
   ]
  },
  {
   "cell_type": "code",
   "execution_count": null,
   "metadata": {
    "collapsed": true
   },
   "outputs": [],
   "source": []
  }
 ],
 "metadata": {
  "kernelspec": {
   "display_name": "Python 3",
   "language": "python",
   "name": "python3"
  },
  "language_info": {
   "codemirror_mode": {
    "name": "ipython",
    "version": 3
   },
   "file_extension": ".py",
   "mimetype": "text/x-python",
   "name": "python",
   "nbconvert_exporter": "python",
   "pygments_lexer": "ipython3",
   "version": "3.6.1"
  }
 },
 "nbformat": 4,
 "nbformat_minor": 2
}
