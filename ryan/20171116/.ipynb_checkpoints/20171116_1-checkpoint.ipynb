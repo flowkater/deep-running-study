{
 "cells": [
  {
   "cell_type": "code",
   "execution_count": 1,
   "metadata": {
    "collapsed": true
   },
   "outputs": [],
   "source": [
    "%matplotlib inline\n",
    "\n",
    "import numpy as np\n",
    "import matplotlib.pyplot as plt"
   ]
  },
  {
   "cell_type": "markdown",
   "metadata": {},
   "source": [
    "# Define Sigmoid"
   ]
  },
  {
   "cell_type": "code",
   "execution_count": 2,
   "metadata": {},
   "outputs": [
    {
     "data": {
      "text/plain": [
       "[<matplotlib.lines.Line2D at 0x1085ae4a8>]"
      ]
     },
     "execution_count": 2,
     "metadata": {},
     "output_type": "execute_result"
    },
    {
     "data": {
      "image/png": "[encoded data removed]",
      "text/plain": [
       "<matplotlib.figure.Figure at 0x10851e278>"
      ]
     },
     "metadata": {},
     "output_type": "display_data"
    }
   ],
   "source": [
    "def sigmoid(n):\n",
    "    return 1 / (1 + np.exp(-n))\n",
    "\n",
    "xx = np.linspace(start=-10.0, stop=10.0)\n",
    "yy = sigmoid(xx)\n",
    "\n",
    "plt.plot(xx, yy)"
   ]
  },
  {
   "cell_type": "code",
   "execution_count": 3,
   "metadata": {},
   "outputs": [
    {
     "data": {
      "text/plain": [
       "[<matplotlib.lines.Line2D at 0x108778e48>]"
      ]
     },
     "execution_count": 3,
     "metadata": {},
     "output_type": "execute_result"
    },
    {
     "data": {
      "image/png": "[encoded data removed]",
      "text/plain": [
       "<matplotlib.figure.Figure at 0x108714240>"
      ]
     },
     "metadata": {},
     "output_type": "display_data"
    }
   ],
   "source": [
    "def sigmoid_derivative(n):\n",
    "    return sigmoid(n) * (1 - sigmoid(n))\n",
    "\n",
    "xx = np.linspace(start=-10.0, stop=10.0)\n",
    "yy = sigmoid_derivative(xx)\n",
    "\n",
    "plt.plot(xx, yy)"
   ]
  },
  {
   "cell_type": "code",
   "execution_count": 5,
   "metadata": {},
   "outputs": [
    {
     "name": "stdout",
     "output_type": "stream",
     "text": [
      "6\n",
      "[3, 2]\n"
     ]
    }
   ],
   "source": [
    "class Multiply:\n",
    "    def forward(self, x, y):\n",
    "        self.x = x\n",
    "        self.y = y\n",
    "        return self.x * self.y\n",
    "    \n",
    "    def backward(self):\n",
    "        return [self.y, self.x]\n",
    "\n",
    "multiply = Multiply()\n",
    "print(multiply.forward(2, 3))\n",
    "print(multiply.backward())"
   ]
  },
  {
   "cell_type": "code",
   "execution_count": 6,
   "metadata": {},
   "outputs": [
    {
     "name": "stdout",
     "output_type": "stream",
     "text": [
      "1.0\n",
      "1.0\n"
     ]
    }
   ],
   "source": [
    "class Exp:\n",
    "    def forward(self, x):\n",
    "        self.x = x\n",
    "        return np.exp(self.x)\n",
    "    \n",
    "    def backward(self):\n",
    "        return np.exp(self.x)\n",
    "\n",
    "exp = Exp()\n",
    "print(exp.forward(0))\n",
    "print(exp.backward())"
   ]
  },
  {
   "cell_type": "code",
   "execution_count": 7,
   "metadata": {},
   "outputs": [
    {
     "name": "stdout",
     "output_type": "stream",
     "text": [
      "5\n",
      "[1, 1]\n"
     ]
    }
   ],
   "source": [
    "class Add:\n",
    "    def forward(self, x, y):\n",
    "        self.x = x\n",
    "        self.y = y\n",
    "        return self.x + self.y\n",
    "    \n",
    "    def backward(self):\n",
    "        return [1, 1]\n",
    "\n",
    "add = Add()\n",
    "print(add.forward(2, 3))\n",
    "print(add.backward())"
   ]
  },
  {
   "cell_type": "code",
   "execution_count": 10,
   "metadata": {},
   "outputs": [
    {
     "name": "stdout",
     "output_type": "stream",
     "text": [
      "0.5\n",
      "-0.25\n"
     ]
    }
   ],
   "source": [
    "class Flip:\n",
    "    def forward(self, x):\n",
    "        self.x = x\n",
    "        return 1 / self.x\n",
    "    \n",
    "    def backward(self):\n",
    "        return -1.0 * (1 / self.x ** 2)\n",
    "    \n",
    "flip = Flip()\n",
    "print(flip.forward(2))\n",
    "print(flip.backward())"
   ]
  },
  {
   "cell_type": "code",
   "execution_count": 35,
   "metadata": {},
   "outputs": [
    {
     "name": "stdout",
     "output_type": "stream",
     "text": [
      "True => 0.5\n"
     ]
    }
   ],
   "source": [
    "multiply = Multiply()\n",
    "exp = Exp()\n",
    "add = Add()\n",
    "flip = Flip()\n",
    "\n",
    "x = 0\n",
    "forward1 = multiply.forward(-1.0, x)\n",
    "forward2 = exp.forward(forward1)\n",
    "forward3 = add.forward(forward2, 1.0)\n",
    "forward4 = flip.forward(forward3)\n",
    "\n",
    "print(\"{0} => {1}\".format(forward4 == sigmoid(x), forward4))"
   ]
  },
  {
   "cell_type": "code",
   "execution_count": 36,
   "metadata": {},
   "outputs": [
    {
     "name": "stdout",
     "output_type": "stream",
     "text": [
      "True => 0.25\n"
     ]
    }
   ],
   "source": [
    "backward1 = flip.backward()\n",
    "backward2 = backward1 * add.backward()[0]\n",
    "backward3 = backward2 * exp.backward()\n",
    "backward4 = backward3 * multiply.backward()[1]\n",
    "\n",
    "print(\"{0} => {1}\".format(backward4 == sigmoid_derivative(x), backward4))"
   ]
  }
 ],
 "metadata": {
  "kernelspec": {
   "display_name": "Python 3",
   "language": "python",
   "name": "python3"
  },
  "language_info": {
   "codemirror_mode": {
    "name": "ipython",
    "version": 3
   },
   "file_extension": ".py",
   "mimetype": "text/x-python",
   "name": "python",
   "nbconvert_exporter": "python",
   "pygments_lexer": "ipython3",
   "version": "3.6.1"
  }
 },
 "nbformat": 4,
 "nbformat_minor": 2
}
