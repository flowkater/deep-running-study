{
 "cells": [
  {
   "cell_type": "code",
   "execution_count": 1,
   "metadata": {
    "collapsed": true
   },
   "outputs": [],
   "source": [
    "import numpy as np"
   ]
  },
  {
   "cell_type": "code",
   "execution_count": 2,
   "metadata": {},
   "outputs": [
    {
     "data": {
      "text/plain": [
       "0.07231893877254936"
      ]
     },
     "execution_count": 2,
     "metadata": {},
     "output_type": "execute_result"
    }
   ],
   "source": [
    "# uniform 분포로 랜덤값을 생성\n",
    "np.random.uniform(low=0.0, high=1.0)"
   ]
  },
  {
   "cell_type": "markdown",
   "metadata": {},
   "source": [
    "# Generate Dataset"
   ]
  },
  {
   "cell_type": "code",
   "execution_count": 3,
   "metadata": {},
   "outputs": [
    {
     "name": "stdout",
     "output_type": "stream",
     "text": [
      "(100,)\n"
     ]
    },
    {
     "data": {
      "text/plain": [
       "array([ 0.36303337,  0.93028992,  0.36793582,  0.35930595,  0.81950208,\n",
       "        0.74285439,  0.33007483,  0.41516824,  0.48994797,  0.85645599])"
      ]
     },
     "execution_count": 3,
     "metadata": {},
     "output_type": "execute_result"
    }
   ],
   "source": [
    "x1 = np.random.uniform(low=0.0, high=1.0, size=100)\n",
    "\n",
    "print(x1.shape)\n",
    "x1[:10]"
   ]
  },
  {
   "cell_type": "code",
   "execution_count": 4,
   "metadata": {},
   "outputs": [
    {
     "name": "stdout",
     "output_type": "stream",
     "text": [
      "(100,)\n"
     ]
    },
    {
     "data": {
      "text/plain": [
       "array([ 0.19881625,  0.23588483,  0.41872211,  0.51375363,  0.38375441,\n",
       "        0.66254183,  0.31430451,  0.85816505,  0.24361595,  0.38731356])"
      ]
     },
     "execution_count": 4,
     "metadata": {},
     "output_type": "execute_result"
    }
   ],
   "source": [
    "x2 = np.random.uniform(low=0.0, high=1.0, size=100)\n",
    "\n",
    "print(x2.shape)\n",
    "x2[:10]"
   ]
  },
  {
   "cell_type": "code",
   "execution_count": 5,
   "metadata": {},
   "outputs": [
    {
     "name": "stdout",
     "output_type": "stream",
     "text": [
      "(100,)\n"
     ]
    },
    {
     "data": {
      "text/plain": [
       "array([ 0.31773953,  0.49783231,  0.42578581,  0.47344658,  0.54487648,\n",
       "        0.65932468,  0.35674002,  0.66046614,  0.37623266,  0.55868733])"
      ]
     },
     "execution_count": 5,
     "metadata": {},
     "output_type": "execute_result"
    }
   ],
   "source": [
    "y = (x1 * 0.3) + (x2 * 0.5) + 0.1 + (np.random.uniform(low=0.0, high=1.0, size=100) * 0.01)\n",
    "\n",
    "print(y.shape)\n",
    "y[:10]"
   ]
  },
  {
   "cell_type": "code",
   "execution_count": 6,
   "metadata": {
    "collapsed": true
   },
   "outputs": [],
   "source": [
    "# %matplotlib inline\n",
    "# import matplotlib.pyplot as plt\n",
    "\n",
    "# plt.scatter(x, y)"
   ]
  },
  {
   "cell_type": "markdown",
   "metadata": {},
   "source": [
    "# Case 1 - Random Search"
   ]
  },
  {
   "cell_type": "code",
   "execution_count": 7,
   "metadata": {},
   "outputs": [
    {
     "name": "stdout",
     "output_type": "stream",
     "text": [
      " 0 w1 = 0.04002, w2 = 0.77393, b = 0.11122, error = 0.09010\n",
      "28 w1 = 0.27868, w2 = 0.18193, b = 0.30304, error = 0.08312\n",
      "78 w1 = 0.45972, w2 = 0.32884, b = 0.10080, error = 0.05535\n",
      "273 w1 = 0.21824, w2 = 0.40559, b = 0.22731, error = 0.03830\n",
      "410 w1 = 0.22189, w2 = 0.50068, b = 0.13425, error = 0.02058\n",
      "637 w1 = 0.32044, w2 = 0.47024, b = 0.12777, error = 0.01919\n",
      "1758 w1 = 0.33996, w2 = 0.53058, b = 0.05061, error = 0.01863\n",
      "2424 w1 = 0.28190, w2 = 0.50539, b = 0.11068, error = 0.00505\n",
      "------------------------------------------\n",
      "9999 w1 = 0.28190, w2 = 0.50539, b = 0.11068, error = 0.00505\n"
     ]
    }
   ],
   "source": [
    "num_epoch = 10000\n",
    "\n",
    "best_w1 = None\n",
    "best_w2 = None\n",
    "best_b = None\n",
    "best_error = 999\n",
    "\n",
    "for epoch in range(num_epoch):\n",
    "    w1 = np.random.uniform(low=0.0, high=1.0)\n",
    "    w2 = np.random.uniform(low=0.0, high=1.0)\n",
    "    b = np.random.uniform(low=0.0, high=1.0)\n",
    "    \n",
    "    y_predict = (x1 * w1) + (x2 * w2) + b\n",
    "    error = np.abs(y_predict - y).mean()\n",
    "    \n",
    "    if error < best_error:\n",
    "        best_w1 = w1\n",
    "        best_w2 = w2\n",
    "        best_b = b\n",
    "        best_error = error\n",
    "        \n",
    "        print(\"{0:2} w1 = {1:.5f}, w2 = {2:.5f}, b = {3:.5f}, error = {4:.5f}\".format(epoch, w1, w2, b, error))\n",
    "    \n",
    "print(\"------------------------------------------\")\n",
    "print(\"{0:2} w1 = {1:.5f}, w2 = {2:.5f}, b = {3:.5f}, error = {4:.5f}\".format(epoch, best_w1, best_w2, best_b, best_error))"
   ]
  },
  {
   "cell_type": "markdown",
   "metadata": {},
   "source": [
    "# Case 2 - h-step Search"
   ]
  },
  {
   "cell_type": "code",
   "execution_count": 8,
   "metadata": {
    "collapsed": true
   },
   "outputs": [],
   "source": [
    "# num_epoch = 1000\n",
    "\n",
    "# w = np.random.uniform(low=0.0, high=1.0)\n",
    "# h = 0.01\n",
    "\n",
    "# for epoch in range(num_epoch):\n",
    "#     y_predict = x * w\n",
    "#     current_error = np.abs(y_predict - y).mean()\n",
    "    \n",
    "#     y_predict = x * (w + h)\n",
    "#     h_plus_error = np.abs(y_predict - y).mean()\n",
    "    \n",
    "#     if h_plus_error < current_error:\n",
    "#         w = w + h\n",
    "#         continue\n",
    "    \n",
    "#     y_predict = x * (w - h)\n",
    "#     h_minus_error = np.abs(y_predict - y).mean()\n",
    "    \n",
    "#     if h_minus_error < current_error:\n",
    "#         w = w - h\n",
    "#         continue\n",
    "    \n",
    "#     break\n",
    "\n",
    "# print(\"{0} w = {1:.5f} error = {2:.5f}\".format(epoch, w, current_error))        "
   ]
  },
  {
   "cell_type": "markdown",
   "metadata": {},
   "source": [
    "# Case 3 - Gradient Desent"
   ]
  },
  {
   "cell_type": "code",
   "execution_count": 9,
   "metadata": {},
   "outputs": [
    {
     "name": "stdout",
     "output_type": "stream",
     "text": [
      " 0 w1 = 10209.71444, w2 = -2975.73552, b = 1323.16387, error = 6188.08814\n",
      "10 w1 = 3748.95055, w2 = -1025.34971, b = -308.14404, error = 1517.44629\n",
      "20 w1 = 1460.12466, w2 = -270.30549, b = -385.49317, error = 443.03360\n",
      "30 w1 = 599.41515, w2 = -28.32409, b = -251.85839, error = 160.81848\n",
      "40 w1 = 257.92977, w2 = 30.02795, b = -142.93901, error = 68.44039\n",
      "50 w1 = 115.72946, w2 = 32.94931, b = -77.23325, error = 31.64337\n",
      "60 w1 = 53.87316, w2 = 23.82632, b = -40.91249, error = 15.41765\n",
      "70 w1 = 25.90336, w2 = 15.04759, b = -21.47796, error = 7.70402\n",
      "80 w1 = 12.82706, w2 = 8.97007, b = -11.21443, error = 3.92293\n",
      "90 w1 = 6.54194, w2 = 5.24482, b = -5.82352, error = 2.02597\n",
      "100 w1 = 3.45330, w2 = 3.09633, b = -2.99832, error = 1.05262\n",
      "110 w1 = 1.90922, w2 = 1.89952, b = -1.51909, error = 0.54839\n",
      "120 w1 = 1.12728, w2 = 1.24689, b = -0.74487, error = 0.28626\n",
      "130 w1 = 0.72752, w2 = 0.89580, b = -0.33972, error = 0.14976\n",
      "140 w1 = 0.52173, w2 = 0.70860, b = -0.12770, error = 0.07849\n",
      "150 w1 = 0.41528, w2 = 0.60938, b = -0.01675, error = 0.04124\n",
      "160 w1 = 0.36002, w2 = 0.55701, b = 0.04130, error = 0.02176\n",
      "170 w1 = 0.33126, w2 = 0.52943, b = 0.07168, error = 0.01163\n",
      "180 w1 = 0.31627, w2 = 0.51494, b = 0.08758, error = 0.00652\n",
      "------------------------------------------\n",
      "186 w1 = 0.31173, w2 = 0.51053, b = 0.09241, error = 0.00480\n"
     ]
    }
   ],
   "source": [
    "num_epoch = 1000\n",
    "learning_rate = 1.2\n",
    "\n",
    "w1 = np.random.uniform(low=-9999.0, high=9999.0)\n",
    "w2 = np.random.uniform(low=-9999.0, high=9999.0)\n",
    "b = np.random.uniform(low=-9999.0, high=9999.0)\n",
    "\n",
    "for epoch in range(num_epoch):\n",
    "    y_predict = (x1 * w1) + (x2 * w2) + b\n",
    "    \n",
    "    error = np.abs(y_predict - y).mean()\n",
    "    if error < 0.005:\n",
    "        break\n",
    "    \n",
    "    w1 = w1 - learning_rate * ((y_predict - y) * x1).mean()\n",
    "    w2 = w2 - learning_rate * ((y_predict - y) * x2).mean()\n",
    "    b = b - learning_rate * (y_predict - y).mean()\n",
    "    \n",
    "    if epoch % 10 == 0:\n",
    "        print(\"{0:2} w1 = {1:.5f}, w2 = {2:.5f}, b = {3:.5f}, error = {4:.5f}\".format(epoch, w1, w2, b, error))\n",
    "    \n",
    "print(\"------------------------------------------\")\n",
    "print(\"{0:2} w1 = {1:.5f}, w2 = {2:.5f}, b = {3:.5f}, error = {4:.5f}\".format(epoch, w1, w2, b, error))"
   ]
  },
  {
   "cell_type": "markdown",
   "metadata": {},
   "source": [
    "# 숙제\n",
    "\n",
    "- Boston Housing Dataset"
   ]
  },
  {
   "cell_type": "code",
   "execution_count": null,
   "metadata": {
    "collapsed": true
   },
   "outputs": [],
   "source": [
    "from sklearn.datasets import load_boston\n",
    "\n",
    "boston = load_boston()"
   ]
  },
  {
   "cell_type": "code",
   "execution_count": null,
   "metadata": {},
   "outputs": [],
   "source": [
    "X = boston[\"data\"]\n",
    "\n",
    "print(X.shape)\n",
    "X[0]"
   ]
  },
  {
   "cell_type": "code",
   "execution_count": null,
   "metadata": {},
   "outputs": [],
   "source": [
    "y = boston[\"target\"]\n",
    "\n",
    "print(y.shape)\n",
    "y[0]"
   ]
  },
  {
   "cell_type": "code",
   "execution_count": null,
   "metadata": {},
   "outputs": [],
   "source": [
    "import pandas as pd\n",
    "\n",
    "data = pd.DataFrame(X, columns=boston[\"feature_names\"])\n",
    "data[\"PRICE\"] = y\n",
    "\n",
    "print(data.shape)\n",
    "data.head()"
   ]
  },
  {
   "cell_type": "code",
   "execution_count": null,
   "metadata": {
    "collapsed": true
   },
   "outputs": [],
   "source": [
    "data"
   ]
  },
  {
   "cell_type": "code",
   "execution_count": null,
   "metadata": {},
   "outputs": [],
   "source": [
    "num_epoch = 10000\n",
    "learning_rate = 0.0000063 # 0.00000625\n",
    "\n",
    "crim_w = 1\n",
    "zn_w = 1\n",
    "indus_w = 1\n",
    "chas_w = 1\n",
    "nox_w = 1\n",
    "rm_w = 1\n",
    "age_w = 1\n",
    "dis_w = 1\n",
    "rad_w = 1\n",
    "tax_w = 1\n",
    "ptratio_w = 1\n",
    "b_w = 1\n",
    "lstat_w = 1\n",
    "b = 1\n",
    "\n",
    "for epoch in range(num_epoch):\n",
    "    price_predict = (crim_w * data[\"CRIM\"]) + (zn_w * data[\"ZN\"]) + (indus_w * data[\"INDUS\"]) + (chas_w * data[\"CHAS\"]) + (nox_w * data[\"NOX\"]) + (rm_w * data[\"RM\"]) + (age_w * data[\"AGE\"]) + (dis_w * data[\"DIS\"]) + (rad_w * data[\"RAD\"]) + (tax_w * data[\"TAX\"]) + (ptratio_w * data[\"PTRATIO\"]) + (b_w * data[\"B\"]) + (lstat_w * data[\"LSTAT\"]) + b\n",
    "    \n",
    "    error = np.abs(price_predict - data[\"PRICE\"]).mean()\n",
    "    if error < 0.005:\n",
    "        break\n",
    "    \n",
    "    crim_w = crim_w - learning_rate * ((price_predict - data[\"PRICE\"]) * data[\"CRIM\"]).mean()\n",
    "    zn_w = zn_w - learning_rate * ((price_predict - data[\"PRICE\"]) * data[\"ZN\"]).mean()\n",
    "    indus_w = indus_w - learning_rate * ((price_predict - data[\"PRICE\"]) * data[\"INDUS\"]).mean()\n",
    "    chas_w = chas_w - learning_rate * ((price_predict - data[\"PRICE\"]) * data[\"CHAS\"]).mean()\n",
    "    nox_w = nox_w - learning_rate * ((price_predict - data[\"PRICE\"]) * data[\"NOX\"]).mean()\n",
    "    rm_w = rm_w - learning_rate * ((price_predict - data[\"PRICE\"]) * data[\"RM\"]).mean()\n",
    "    age_w = age_w - learning_rate * ((price_predict - data[\"PRICE\"]) * data[\"AGE\"]).mean()\n",
    "    dis_w = dis_w - learning_rate * ((price_predict - data[\"PRICE\"]) * data[\"DIS\"]).mean()\n",
    "    rad_w = rad_w - learning_rate * ((price_predict - data[\"PRICE\"]) * data[\"RAD\"]).mean()\n",
    "    tax_w = tax_w - learning_rate * ((price_predict - data[\"PRICE\"]) * data[\"TAX\"]).mean()\n",
    "    ptratio_w = ptratio_w - learning_rate * ((price_predict - data[\"PRICE\"]) * data[\"PTRATIO\"]).mean()\n",
    "    b_w = b_w - learning_rate * ((price_predict - data[\"PRICE\"]) * data[\"B\"]).mean()\n",
    "    lstat_w = lstat_w - learning_rate * ((price_predict - data[\"PRICE\"]) * data[\"LSTAT\"]).mean()\n",
    "    b = b - learning_rate * (price_predict - data[\"PRICE\"]).mean()\n",
    "    \n",
    "    if epoch % 100 == 0:\n",
    "#         print(\"[{0:2}], error = {1:.5f}, crim_w = {2:.5f}, zn_w = {3:.5f}, indus_w = {4:.5f}, chas_w = {5:.5f}, nox_w = {6:.5f}, rm_w = {7:.5f}, age_w = {8:.5f}, dis_w = {9:.5f}, rad_w = {10:.5f}, tax_w = {11:.5f}, ptratio_w = {12:.5f}, b_w = {13:.5f}, lstat_w = {14:.5f}, b = {15:.5f}\".format(epoch, error, crim_w, zn_w, indus_w, chas_w, nox_w, rm_w, age_w, dis_w, rad_w, tax_w, ptratio_w, b_w, lstat_w, b))\n",
    "        print(\"[{0:2}] error = {1:.5f}\".format(epoch, error))\n",
    "    \n",
    "print(\"------------------------------------------\")\n",
    "print(\"[{0:2}] error = {1:.5f}\".format(epoch, error))\n",
    "# print(\"{0:2} w1 = {1:.5f}, w2 = {2:.5f}, b = {3:.5f}, error = {4:.5f}\".format(epoch, w1, w2, b, error))"
   ]
  },
  {
   "cell_type": "code",
   "execution_count": null,
   "metadata": {},
   "outputs": [],
   "source": [
    "print(\"crim_w    = {0:.5f}\".format(crim_w))\n",
    "print(\"zn_w      = {0:.5f}\".format(zn_w))\n",
    "print(\"indus_w   = {0:.5f}\".format(indus_w))\n",
    "print(\"chas_w    = {0:.5f}\".format(chas_w))\n",
    "print(\"nox_w     = {0:.5f}\".format(nox_w))\n",
    "print(\"rm_w      = {0:.5f}\".format(rm_w))\n",
    "print(\"age_w     = {0:.5f}\".format(age_w))\n",
    "print(\"dis_w     = {0:.5f}\".format(dis_w))\n",
    "print(\"rad_w     = {0:.5f}\".format(rad_w))\n",
    "print(\"tax_w     = {0:.5f}\".format(tax_w))\n",
    "print(\"ptratio_w = {0:.5f}\".format(ptratio_w))\n",
    "print(\"b_w       = {0:.5f}\".format(b_w))\n",
    "print(\"lstat_w   = {0:.5f}\".format(lstat_w))\n",
    "print(\"b         = {0:.5f}\".format(b))"
   ]
  },
  {
   "cell_type": "code",
   "execution_count": null,
   "metadata": {
    "collapsed": true
   },
   "outputs": [],
   "source": [
    "num_epoch = 10000\n",
    "learning_rate = 0.0000063 # 0.00000625\n",
    "\n",
    "w = np.random.uniform(low=0, high=1, size=13)\n",
    "b = 1\n",
    "\n",
    "for epoch in range(num_epoch):\n",
    "    price_predict = (crim_w * data[\"CRIM\"]) + (zn_w * data[\"ZN\"]) + (indus_w * data[\"INDUS\"]) + (chas_w * data[\"CHAS\"]) + (nox_w * data[\"NOX\"]) + (rm_w * data[\"RM\"]) + (age_w * data[\"AGE\"]) + (dis_w * data[\"DIS\"]) + (rad_w * data[\"RAD\"]) + (tax_w * data[\"TAX\"]) + (ptratio_w * data[\"PTRATIO\"]) + (b_w * data[\"B\"]) + (lstat_w * data[\"LSTAT\"]) + b\n",
    "    \n",
    "    error = np.abs(price_predict - data[\"PRICE\"]).mean()\n",
    "    if error < 0.005:\n",
    "        break\n",
    "    \n",
    "    crim_w = crim_w - learning_rate * ((price_predict - data[\"PRICE\"]) * data[\"CRIM\"]).mean()\n",
    "    zn_w = zn_w - learning_rate * ((price_predict - data[\"PRICE\"]) * data[\"ZN\"]).mean()\n",
    "    indus_w = indus_w - learning_rate * ((price_predict - data[\"PRICE\"]) * data[\"INDUS\"]).mean()\n",
    "    chas_w = chas_w - learning_rate * ((price_predict - data[\"PRICE\"]) * data[\"CHAS\"]).mean()\n",
    "    nox_w = nox_w - learning_rate * ((price_predict - data[\"PRICE\"]) * data[\"NOX\"]).mean()\n",
    "    rm_w = rm_w - learning_rate * ((price_predict - data[\"PRICE\"]) * data[\"RM\"]).mean()\n",
    "    age_w = age_w - learning_rate * ((price_predict - data[\"PRICE\"]) * data[\"AGE\"]).mean()\n",
    "    dis_w = dis_w - learning_rate * ((price_predict - data[\"PRICE\"]) * data[\"DIS\"]).mean()\n",
    "    rad_w = rad_w - learning_rate * ((price_predict - data[\"PRICE\"]) * data[\"RAD\"]).mean()\n",
    "    tax_w = tax_w - learning_rate * ((price_predict - data[\"PRICE\"]) * data[\"TAX\"]).mean()\n",
    "    ptratio_w = ptratio_w - learning_rate * ((price_predict - data[\"PRICE\"]) * data[\"PTRATIO\"]).mean()\n",
    "    b_w = b_w - learning_rate * ((price_predict - data[\"PRICE\"]) * data[\"B\"]).mean()\n",
    "    lstat_w = lstat_w - learning_rate * ((price_predict - data[\"PRICE\"]) * data[\"LSTAT\"]).mean()\n",
    "    b = b - learning_rate * (price_predict - data[\"PRICE\"]).mean()\n",
    "    \n",
    "    if epoch % 100 == 0:\n",
    "#         print(\"[{0:2}], error = {1:.5f}, crim_w = {2:.5f}, zn_w = {3:.5f}, indus_w = {4:.5f}, chas_w = {5:.5f}, nox_w = {6:.5f}, rm_w = {7:.5f}, age_w = {8:.5f}, dis_w = {9:.5f}, rad_w = {10:.5f}, tax_w = {11:.5f}, ptratio_w = {12:.5f}, b_w = {13:.5f}, lstat_w = {14:.5f}, b = {15:.5f}\".format(epoch, error, crim_w, zn_w, indus_w, chas_w, nox_w, rm_w, age_w, dis_w, rad_w, tax_w, ptratio_w, b_w, lstat_w, b))\n",
    "        print(\"[{0:2}] error = {1:.5f}\".format(epoch, error))\n",
    "    \n",
    "print(\"------------------------------------------\")\n",
    "print(\"[{0:2}] error = {1:.5f}\".format(epoch, error))\n",
    "# print(\"{0:2} w1 = {1:.5f}, w2 = {2:.5f}, b = {3:.5f}, error = {4:.5f}\".format(epoch, w1, w2, b, error))"
   ]
  },
  {
   "cell_type": "code",
   "execution_count": null,
   "metadata": {
    "collapsed": true
   },
   "outputs": [],
   "source": []
  },
  {
   "cell_type": "code",
   "execution_count": null,
   "metadata": {
    "collapsed": true
   },
   "outputs": [],
   "source": []
  }
 ],
 "metadata": {
  "kernelspec": {
   "display_name": "Python 3",
   "language": "python",
   "name": "python3"
  },
  "language_info": {
   "codemirror_mode": {
    "name": "ipython",
    "version": 3
   },
   "file_extension": ".py",
   "mimetype": "text/x-python",
   "name": "python",
   "nbconvert_exporter": "python",
   "pygments_lexer": "ipython3",
   "version": "3.6.1"
  }
 },
 "nbformat": 4,
 "nbformat_minor": 2
}
