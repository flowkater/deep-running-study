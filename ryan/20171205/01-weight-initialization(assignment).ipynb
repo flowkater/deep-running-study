{
 "cells": [
  {
   "cell_type": "code",
   "execution_count": 15,
   "metadata": {
    "collapsed": true
   },
   "outputs": [],
   "source": [
    "%matplotlib inline\n",
    "\n",
    "import numpy as np\n",
    "import pandas as pd\n",
    "import matplotlib.pyplot as plt"
   ]
  },
  {
   "cell_type": "markdown",
   "metadata": {},
   "source": [
    "## Load Dataset"
   ]
  },
  {
   "cell_type": "code",
   "execution_count": 2,
   "metadata": {
    "collapsed": true
   },
   "outputs": [],
   "source": [
    "from sklearn.datasets import load_digits\n",
    "\n",
    "digits = load_digits()"
   ]
  },
  {
   "cell_type": "code",
   "execution_count": 3,
   "metadata": {},
   "outputs": [
    {
     "name": "stdout",
     "output_type": "stream",
     "text": [
      "(1797, 64)\n"
     ]
    },
    {
     "data": {
      "text/plain": [
       "array([[  0.,   0.,   5., ...,   0.,   0.,   0.],\n",
       "       [  0.,   0.,   0., ...,  10.,   0.,   0.],\n",
       "       [  0.,   0.,   0., ...,  16.,   9.,   0.],\n",
       "       ..., \n",
       "       [  0.,   0.,   1., ...,   6.,   0.,   0.],\n",
       "       [  0.,   0.,   2., ...,  12.,   0.,   0.],\n",
       "       [  0.,   0.,  10., ...,  12.,   1.,   0.]])"
      ]
     },
     "execution_count": 3,
     "metadata": {},
     "output_type": "execute_result"
    }
   ],
   "source": [
    "X = digits[\"data\"]\n",
    "\n",
    "print(X.shape)\n",
    "X"
   ]
  },
  {
   "cell_type": "code",
   "execution_count": 4,
   "metadata": {},
   "outputs": [
    {
     "name": "stdout",
     "output_type": "stream",
     "text": [
      "(1797,)\n"
     ]
    },
    {
     "data": {
      "text/plain": [
       "array([0, 1, 2, ..., 8, 9, 8])"
      ]
     },
     "execution_count": 4,
     "metadata": {},
     "output_type": "execute_result"
    }
   ],
   "source": [
    "y = digits[\"target\"]\n",
    "\n",
    "print(y.shape)\n",
    "y"
   ]
  },
  {
   "cell_type": "markdown",
   "metadata": {},
   "source": [
    "## Preprocessing"
   ]
  },
  {
   "cell_type": "code",
   "execution_count": 5,
   "metadata": {},
   "outputs": [
    {
     "data": {
      "text/plain": [
       "array([[ -4.88416458,  -4.88416458,   0.11583542, ...,  -4.88416458,\n",
       "         -4.88416458,  -4.88416458],\n",
       "       [ -4.88416458,  -4.88416458,  -4.88416458, ...,   5.11583542,\n",
       "         -4.88416458,  -4.88416458],\n",
       "       [ -4.88416458,  -4.88416458,  -4.88416458, ...,  11.11583542,\n",
       "          4.11583542,  -4.88416458],\n",
       "       ..., \n",
       "       [ -4.88416458,  -4.88416458,  -3.88416458, ...,   1.11583542,\n",
       "         -4.88416458,  -4.88416458],\n",
       "       [ -4.88416458,  -4.88416458,  -2.88416458, ...,   7.11583542,\n",
       "         -4.88416458,  -4.88416458],\n",
       "       [ -4.88416458,  -4.88416458,   5.11583542, ...,   7.11583542,\n",
       "         -3.88416458,  -4.88416458]])"
      ]
     },
     "execution_count": 5,
     "metadata": {},
     "output_type": "execute_result"
    }
   ],
   "source": [
    "X_mean = X.mean()\n",
    "\n",
    "X_normalized = X - X_mean\n",
    "X_normalized"
   ]
  },
  {
   "cell_type": "code",
   "execution_count": 6,
   "metadata": {},
   "outputs": [
    {
     "name": "stderr",
     "output_type": "stream",
     "text": [
      "Using TensorFlow backend.\n",
      "/Library/Frameworks/Python.framework/Versions/3.6/lib/python3.6/importlib/_bootstrap.py:205: RuntimeWarning: compiletime version 3.5 of module 'tensorflow.python.framework.fast_tensor_util' does not match runtime version 3.6\n",
      "  return f(*args, **kwds)\n"
     ]
    },
    {
     "name": "stdout",
     "output_type": "stream",
     "text": [
      "(1797,) (1797, 10)\n"
     ]
    }
   ],
   "source": [
    "from keras.utils import to_categorical\n",
    "\n",
    "y_hot = to_categorical(y)\n",
    "\n",
    "print(y.shape, y_hot.shape)"
   ]
  },
  {
   "cell_type": "markdown",
   "metadata": {},
   "source": [
    "## Define Activation"
   ]
  },
  {
   "cell_type": "markdown",
   "metadata": {},
   "source": [
    "### Sigmoid"
   ]
  },
  {
   "cell_type": "code",
   "execution_count": 18,
   "metadata": {},
   "outputs": [
    {
     "data": {
      "text/plain": [
       "[<matplotlib.lines.Line2D at 0x1191669b0>]"
      ]
     },
     "execution_count": 18,
     "metadata": {},
     "output_type": "execute_result"
    },
    {
     "data": {
      "image/png": "[encoded data removed]",
      "text/plain": [
       "<matplotlib.figure.Figure at 0x1190769b0>"
      ]
     },
     "metadata": {},
     "output_type": "display_data"
    }
   ],
   "source": [
    "def sigmoid(n):\n",
    "    return 1 / (1 + np.exp(-n))\n",
    "\n",
    "xx = np.linspace(start=-9, stop=+9, num=100)\n",
    "yy = sigmoid(xx)\n",
    "\n",
    "plt.plot(xx, yy)"
   ]
  },
  {
   "cell_type": "code",
   "execution_count": 17,
   "metadata": {},
   "outputs": [
    {
     "data": {
      "text/plain": [
       "[<matplotlib.lines.Line2D at 0x11833e4e0>]"
      ]
     },
     "execution_count": 17,
     "metadata": {},
     "output_type": "execute_result"
    },
    {
     "data": {
      "image/png": "[encoded data removed]",
      "text/plain": [
       "<matplotlib.figure.Figure at 0x1183605c0>"
      ]
     },
     "metadata": {},
     "output_type": "display_data"
    }
   ],
   "source": [
    "def sigmoid_derivative(n):\n",
    "    return sigmoid(n) * (1 - sigmoid(n))\n",
    "\n",
    "xx = np.linspace(start=-9, stop=+9, num=100)\n",
    "yy = sigmoid_derivative(xx)\n",
    "\n",
    "plt.plot(xx, yy)"
   ]
  },
  {
   "cell_type": "markdown",
   "metadata": {},
   "source": [
    "## Build a Model"
   ]
  },
  {
   "cell_type": "markdown",
   "metadata": {},
   "source": [
    "### Small Random Number"
   ]
  },
  {
   "cell_type": "code",
   "execution_count": 12,
   "metadata": {},
   "outputs": [
    {
     "name": "stdout",
     "output_type": "stream",
     "text": [
      " 0 error = 0.86366\n",
      "10 error = 0.56873\n",
      "20 error = 0.39343\n",
      "30 error = 0.27991\n",
      "40 error = 0.21369\n",
      "50 error = 0.17028\n",
      "60 error = 0.14524\n",
      "70 error = 0.12465\n",
      "80 error = 0.10740\n",
      "90 error = 0.09405\n",
      "----------------------------------------\n",
      "99 error = 0.08625\n"
     ]
    }
   ],
   "source": [
    "from time import time\n",
    "\n",
    "num_epoch = 100\n",
    "learning_rate = 0.0001\n",
    "\n",
    "error_progress_default = []\n",
    "\n",
    "start = time()\n",
    "\n",
    "w1 = np.random.uniform(low=-1.0, high=1.0, size=(64, 100))\n",
    "w2 = np.random.uniform(low=-1.0, high=1.0, size=(100, 100))\n",
    "w3 = np.random.uniform(low=-1.0, high=1.0, size=(100, 10))\n",
    "\n",
    "b1 = np.zeros((1, 100))\n",
    "b2 = np.zeros((1, 100))\n",
    "b3 = np.zeros((1, 10))\n",
    "\n",
    "for epoch in range(num_epoch):\n",
    "    z1 = X.dot(w1) + b1\n",
    "    a1 = sigmoid(z1)\n",
    "    z2 = a1.dot(w2) + b2\n",
    "    a2 = sigmoid(z2)\n",
    "    z3 = a2.dot(w3) + b3\n",
    "    a3 = sigmoid(z3)\n",
    "    \n",
    "    y_predict = np.argmax(a3, axis=1)\n",
    "    error = (y_predict != y).mean()\n",
    "    \n",
    "    if epoch % 10 == 0:\n",
    "        print(\"{0:2} error = {1:.5f}\".format(epoch, error))\n",
    "        \n",
    "    error_progress_default.append({\n",
    "        'epoch': epoch,\n",
    "        'elapsed': time() - start,\n",
    "        'error': error,\n",
    "    })\n",
    "\n",
    "    d3 = (a3 - y_hot)\n",
    "    d2 = d3.dot(w3.T) * sigmoid_derivative(z2)\n",
    "    d1 = d2.dot(w2.T) * sigmoid_derivative(z1)\n",
    "\n",
    "    w3 = w3 - learning_rate * a2.T.dot(d3)\n",
    "    b3 = b3 - learning_rate * d3.mean(axis=0)\n",
    "    \n",
    "    w2 = w2 - learning_rate * a1.T.dot(d2)\n",
    "    b2 = b2 - learning_rate * d2.mean(axis=0)\n",
    "\n",
    "    w1 = w1 - learning_rate * X.T.dot(d1)\n",
    "    b1 = b1 - learning_rate * d1.mean(axis=0)\n",
    "\n",
    "print(\"----\" * 10)\n",
    "print(\"{0:2} error = {1:.5f}\".format(epoch, error))"
   ]
  },
  {
   "cell_type": "code",
   "execution_count": 24,
   "metadata": {},
   "outputs": [
    {
     "data": {
      "text/plain": [
       "<matplotlib.legend.Legend at 0x11946f400>"
      ]
     },
     "execution_count": 24,
     "metadata": {},
     "output_type": "execute_result"
    },
    {
     "data": {
      "image/png": "[encoded data removed]",
      "text/plain": [
       "<matplotlib.figure.Figure at 0x11919fb00>"
      ]
     },
     "metadata": {},
     "output_type": "display_data"
    }
   ],
   "source": [
    "error_progress_default = pd.DataFrame(error_progress_default)\n",
    "\n",
    "plt.plot(error_progress_default['elapsed'], error_progress_default['error'], label=\"default\")\n",
    "\n",
    "plt.legend()"
   ]
  },
  {
   "cell_type": "markdown",
   "metadata": {
    "collapsed": true
   },
   "source": [
    "### Xavior Initialization"
   ]
  },
  {
   "cell_type": "code",
   "execution_count": 25,
   "metadata": {},
   "outputs": [
    {
     "name": "stdout",
     "output_type": "stream",
     "text": [
      " 0 error = 0.90039\n",
      "10 error = 0.43406\n",
      "20 error = 0.24986\n",
      "30 error = 0.20757\n",
      "40 error = 0.17919\n",
      "50 error = 0.15637\n",
      "60 error = 0.14190\n",
      "70 error = 0.12410\n",
      "80 error = 0.11074\n",
      "90 error = 0.10072\n",
      "----------------------------------------\n",
      "99 error = 0.08959\n"
     ]
    }
   ],
   "source": [
    "from time import time\n",
    "\n",
    "num_epoch = 100\n",
    "learning_rate = 0.0001\n",
    "\n",
    "error_progress_xavior = []\n",
    "\n",
    "start = time()\n",
    "\n",
    "w1 = np.random.uniform(low=-np.sqrt(6 / (64 + 100)), high=np.sqrt(6 / (64 + 100)), size=(64, 100))\n",
    "w2 = np.random.uniform(low=-np.sqrt(6 / (100 + 100)), high=np.sqrt(6 / (100 + 100)), size=(100, 100))\n",
    "w3 = np.random.uniform(low=-np.sqrt(6 / (100 + 10)), high=np.sqrt(6 / (100 + 10)), size=(100, 10))\n",
    "\n",
    "b1 = np.zeros((1, 100))\n",
    "b2 = np.zeros((1, 100))\n",
    "b3 = np.zeros((1, 10))\n",
    "\n",
    "for epoch in range(num_epoch):\n",
    "    z1 = X_normalized.dot(w1) + b1\n",
    "    a1 = sigmoid(z1)\n",
    "    z2 = a1.dot(w2) + b2\n",
    "    a2 = sigmoid(z2)\n",
    "    z3 = a2.dot(w3) + b3\n",
    "    a3 = sigmoid(z3)\n",
    "    \n",
    "    y_predict = np.argmax(a3, axis=1)\n",
    "    error = (y_predict != y).mean()\n",
    "    \n",
    "    if epoch % 10 == 0:\n",
    "        print(\"{0:2} error = {1:.5f}\".format(epoch, error))\n",
    "        \n",
    "    error_progress_xavior.append({\n",
    "        'epoch': epoch,\n",
    "        'elapsed': time() - start,\n",
    "        'error': error,\n",
    "    })\n",
    "\n",
    "    d3 = (a3 - y_hot)\n",
    "    d2 = d3.dot(w3.T) * sigmoid_derivative(z2)\n",
    "    d1 = d2.dot(w2.T) * sigmoid_derivative(z1)\n",
    "\n",
    "    w3 = w3 - learning_rate * a2.T.dot(d3)\n",
    "    b3 = b3 - learning_rate * d3.mean(axis=0)\n",
    "    \n",
    "    w2 = w2 - learning_rate * a1.T.dot(d2)\n",
    "    b2 = b2 - learning_rate * d2.mean(axis=0)\n",
    "\n",
    "    w1 = w1 - learning_rate * X_normalized.T.dot(d1)\n",
    "    b1 = b1 - learning_rate * d1.mean(axis=0)\n",
    "\n",
    "print(\"----\" * 10)\n",
    "print(\"{0:2} error = {1:.5f}\".format(epoch, error))"
   ]
  },
  {
   "cell_type": "code",
   "execution_count": 27,
   "metadata": {},
   "outputs": [
    {
     "data": {
      "text/plain": [
       "<matplotlib.legend.Legend at 0x11a02feb8>"
      ]
     },
     "execution_count": 27,
     "metadata": {},
     "output_type": "execute_result"
    },
    {
     "data": {
      "image/png": "[encoded data removed]",
      "text/plain": [
       "<matplotlib.figure.Figure at 0x11a083dd8>"
      ]
     },
     "metadata": {},
     "output_type": "display_data"
    }
   ],
   "source": [
    "error_progress_xavior = pd.DataFrame(error_progress_xavior)\n",
    "\n",
    "plt.plot(error_progress_xavior['elapsed'], error_progress_xavior['error'], label=\"xavior\")\n",
    "plt.plot(error_progress_default['elapsed'], error_progress_default['error'], label=\"default\")\n",
    "\n",
    "plt.legend()"
   ]
  },
  {
   "cell_type": "code",
   "execution_count": null,
   "metadata": {
    "collapsed": true
   },
   "outputs": [],
   "source": []
  }
 ],
 "metadata": {
  "kernelspec": {
   "display_name": "Python 3",
   "language": "python",
   "name": "python3"
  },
  "language_info": {
   "codemirror_mode": {
    "name": "ipython",
    "version": 3
   },
   "file_extension": ".py",
   "mimetype": "text/x-python",
   "name": "python",
   "nbconvert_exporter": "python",
   "pygments_lexer": "ipython3",
   "version": "3.6.1"
  }
 },
 "nbformat": 4,
 "nbformat_minor": 2
}
