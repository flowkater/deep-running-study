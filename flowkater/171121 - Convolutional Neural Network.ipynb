{
 "cells": [
  {
   "cell_type": "code",
   "execution_count": 30,
   "metadata": {
    "collapsed": true
   },
   "outputs": [],
   "source": [
    "import numpy as np\n",
    "import pandas as pd"
   ]
  },
  {
   "cell_type": "markdown",
   "metadata": {},
   "source": [
    "## Load Dataset"
   ]
  },
  {
   "cell_type": "code",
   "execution_count": 3,
   "metadata": {},
   "outputs": [
    {
     "name": "stderr",
     "output_type": "stream",
     "text": [
      "Using TensorFlow backend.\n"
     ]
    },
    {
     "name": "stdout",
     "output_type": "stream",
     "text": [
      "(60000, 28, 28) (60000,)\n",
      "(10000, 28, 28) (10000,)\n"
     ]
    }
   ],
   "source": [
    "from keras.datasets import mnist\n",
    "\n",
    "((X_train, y_train), (X_test, y_test)) = mnist.load_data()\n",
    "\n",
    "print(X_train.shape, y_train.shape)\n",
    "print(X_test.shape, y_test.shape)"
   ]
  },
  {
   "cell_type": "markdown",
   "metadata": {},
   "source": [
    "### Preprocessing"
   ]
  },
  {
   "cell_type": "code",
   "execution_count": 6,
   "metadata": {},
   "outputs": [
    {
     "name": "stdout",
     "output_type": "stream",
     "text": [
      "(60000, 28, 28, 1) (10000, 28, 28, 1)\n"
     ]
    }
   ],
   "source": [
    "X_train = X_train.reshape(60000, 28, 28, 1)\n",
    "X_test = X_test.reshape(10000, 28, 28, 1)\n",
    "\n",
    "print(X_train.shape, X_test.shape)"
   ]
  },
  {
   "cell_type": "code",
   "execution_count": 25,
   "metadata": {},
   "outputs": [
    {
     "name": "stdout",
     "output_type": "stream",
     "text": [
      "(60000, 10) (10000, 10)\n"
     ]
    }
   ],
   "source": [
    "from keras.utils import to_categorical\n",
    "\n",
    "y_train_hot = to_categorical(y_train)\n",
    "y_test_hot = to_categorical(y_test)\n",
    "\n",
    "print(y_train_hot.shape, y_test_hot.shape)"
   ]
  },
  {
   "cell_type": "markdown",
   "metadata": {},
   "source": [
    "## Build a Model"
   ]
  },
  {
   "cell_type": "markdown",
   "metadata": {},
   "source": [
    "min, max 지정 해주면 좋음"
   ]
  },
  {
   "cell_type": "code",
   "execution_count": 24,
   "metadata": {},
   "outputs": [],
   "source": [
    "from keras.models import Sequential\n",
    "from keras.layers import Conv2D, MaxPool2D, Dense, Flatten\n",
    "from keras.optimizers import SGD\n",
    "\n",
    "# Convolutional Layer == Convolutional Filter == Convolutional Kernel\n",
    "\n",
    "model = Sequential()\n",
    "model.add(Conv2D(filters=6, \n",
    "                 kernel_size=(5, 5), \n",
    "                 activation='sigmoid',\n",
    "                 kernel_initializer='random_uniform',\n",
    "                 input_shape=(28, 28, 1)))\n",
    "model.add(MaxPool2D(pool_size=(2, 2)))\n",
    "model.add(Conv2D(filters=12, \n",
    "                 activation='sigmoid',\n",
    "                 kernel_initializer='random_uniform',\n",
    "                 kernel_size=(5, 5)))\n",
    "model.add(MaxPool2D(pool_size=(2, 2)))\n",
    "model.add(Flatten())\n",
    "model.add(Dense(units=128,\n",
    "                kernel_initializer='random_uniform',\n",
    "                activation=\"sigmoid\"))\n",
    "model.add(Dense(units=10,\n",
    "                kernel_initializer='random_uniform',\n",
    "                activation=\"sigmoid\"))\n",
    "\n",
    "sgd = SGD(lr=0.1)\n",
    "\n",
    "model.compile(loss='categorical_crossentropy', \n",
    "              optimizer=sgd, \n",
    "              metrics=['accuracy'])"
   ]
  },
  {
   "cell_type": "code",
   "execution_count": 31,
   "metadata": {},
   "outputs": [
    {
     "name": "stdout",
     "output_type": "stream",
     "text": [
      "Epoch 1/30\n",
      "60000/60000 [==============================] - 17s 283us/step - loss: 0.0841 - acc: 0.9746\n",
      "Epoch 2/30\n",
      "60000/60000 [==============================] - 17s 287us/step - loss: 0.0828 - acc: 0.9746\n",
      "Epoch 3/30\n",
      "60000/60000 [==============================] - 17s 285us/step - loss: 0.0746 - acc: 0.9767\n",
      "Epoch 4/30\n",
      "60000/60000 [==============================] - 17s 284us/step - loss: 0.0735 - acc: 0.9777\n",
      "Epoch 5/30\n",
      "60000/60000 [==============================] - 17s 282us/step - loss: 0.0696 - acc: 0.9785\n",
      "Epoch 6/30\n",
      "60000/60000 [==============================] - 17s 284us/step - loss: 0.0664 - acc: 0.9802\n",
      "Epoch 7/30\n",
      "60000/60000 [==============================] - 17s 283us/step - loss: 0.0653 - acc: 0.9804\n",
      "Epoch 8/30\n",
      "60000/60000 [==============================] - 17s 285us/step - loss: 0.0633 - acc: 0.9805\n",
      "Epoch 9/30\n",
      "60000/60000 [==============================] - 17s 284us/step - loss: 0.0619 - acc: 0.9808\n",
      "Epoch 10/30\n",
      "60000/60000 [==============================] - 17s 286us/step - loss: 0.0590 - acc: 0.9815\n",
      "Epoch 11/30\n",
      "60000/60000 [==============================] - 17s 283us/step - loss: 0.0564 - acc: 0.9833\n",
      "Epoch 12/30\n",
      "60000/60000 [==============================] - 17s 291us/step - loss: 0.0549 - acc: 0.9830\n",
      "Epoch 13/30\n",
      "60000/60000 [==============================] - 17s 285us/step - loss: 0.0537 - acc: 0.9831\n",
      "Epoch 14/30\n",
      "60000/60000 [==============================] - 17s 285us/step - loss: 0.0527 - acc: 0.9836\n",
      "Epoch 15/30\n",
      "60000/60000 [==============================] - 17s 281us/step - loss: 0.0528 - acc: 0.9832\n",
      "Epoch 16/30\n",
      "60000/60000 [==============================] - 17s 281us/step - loss: 0.0563 - acc: 0.9821\n",
      "Epoch 17/30\n",
      "60000/60000 [==============================] - 17s 290us/step - loss: 0.0523 - acc: 0.9831\n",
      "Epoch 18/30\n",
      "60000/60000 [==============================] - 17s 288us/step - loss: 0.0497 - acc: 0.9845\n",
      "Epoch 19/30\n",
      "60000/60000 [==============================] - 17s 284us/step - loss: 0.0487 - acc: 0.9849\n",
      "Epoch 20/30\n",
      "60000/60000 [==============================] - 17s 286us/step - loss: 0.0474 - acc: 0.9856\n",
      "Epoch 21/30\n",
      "60000/60000 [==============================] - 17s 287us/step - loss: 0.0454 - acc: 0.9858\n",
      "Epoch 22/30\n",
      "60000/60000 [==============================] - 17s 287us/step - loss: 0.0467 - acc: 0.9857\n",
      "Epoch 23/30\n",
      "60000/60000 [==============================] - 17s 286us/step - loss: 0.0450 - acc: 0.9852\n",
      "Epoch 24/30\n",
      "60000/60000 [==============================] - 17s 291us/step - loss: 0.0444 - acc: 0.9858\n",
      "Epoch 25/30\n",
      "60000/60000 [==============================] - 17s 289us/step - loss: 0.0453 - acc: 0.9857\n",
      "Epoch 26/30\n",
      "60000/60000 [==============================] - 17s 289us/step - loss: 0.0415 - acc: 0.9869\n",
      "Epoch 27/30\n",
      "60000/60000 [==============================] - 18s 294us/step - loss: 0.0406 - acc: 0.9872\n",
      "Epoch 28/30\n",
      "60000/60000 [==============================] - 18s 295us/step - loss: 0.0404 - acc: 0.9871\n",
      "Epoch 29/30\n",
      "60000/60000 [==============================] - 17s 290us/step - loss: 0.0389 - acc: 0.9876\n",
      "Epoch 30/30\n",
      "60000/60000 [==============================] - 17s 279us/step - loss: 0.0388 - acc: 0.9875\n"
     ]
    },
    {
     "data": {
      "text/plain": [
       "<keras.callbacks.History at 0x11d24c7b8>"
      ]
     },
     "execution_count": 31,
     "metadata": {},
     "output_type": "execute_result"
    }
   ],
   "source": [
    "model.fit(X_train, y_train_hot, epochs=30)"
   ]
  },
  {
   "cell_type": "code",
   "execution_count": 32,
   "metadata": {},
   "outputs": [
    {
     "name": "stdout",
     "output_type": "stream",
     "text": [
      "Accuracy = 0.98460\n"
     ]
    },
    {
     "data": {
      "text/html": [
       "<div>\n",
       "<style>\n",
       "    .dataframe thead tr:only-child th {\n",
       "        text-align: right;\n",
       "    }\n",
       "\n",
       "    .dataframe thead th {\n",
       "        text-align: left;\n",
       "    }\n",
       "\n",
       "    .dataframe tbody tr th {\n",
       "        vertical-align: top;\n",
       "    }\n",
       "</style>\n",
       "<table border=\"1\" class=\"dataframe\">\n",
       "  <thead>\n",
       "    <tr style=\"text-align: right;\">\n",
       "      <th></th>\n",
       "      <th>y(actual)</th>\n",
       "      <th>y(predict)</th>\n",
       "    </tr>\n",
       "  </thead>\n",
       "  <tbody>\n",
       "    <tr>\n",
       "      <th>0</th>\n",
       "      <td>7</td>\n",
       "      <td>7</td>\n",
       "    </tr>\n",
       "    <tr>\n",
       "      <th>1</th>\n",
       "      <td>2</td>\n",
       "      <td>2</td>\n",
       "    </tr>\n",
       "    <tr>\n",
       "      <th>2</th>\n",
       "      <td>1</td>\n",
       "      <td>1</td>\n",
       "    </tr>\n",
       "    <tr>\n",
       "      <th>3</th>\n",
       "      <td>0</td>\n",
       "      <td>0</td>\n",
       "    </tr>\n",
       "    <tr>\n",
       "      <th>4</th>\n",
       "      <td>4</td>\n",
       "      <td>4</td>\n",
       "    </tr>\n",
       "    <tr>\n",
       "      <th>5</th>\n",
       "      <td>1</td>\n",
       "      <td>1</td>\n",
       "    </tr>\n",
       "    <tr>\n",
       "      <th>6</th>\n",
       "      <td>4</td>\n",
       "      <td>4</td>\n",
       "    </tr>\n",
       "    <tr>\n",
       "      <th>7</th>\n",
       "      <td>9</td>\n",
       "      <td>9</td>\n",
       "    </tr>\n",
       "    <tr>\n",
       "      <th>8</th>\n",
       "      <td>5</td>\n",
       "      <td>5</td>\n",
       "    </tr>\n",
       "    <tr>\n",
       "      <th>9</th>\n",
       "      <td>9</td>\n",
       "      <td>9</td>\n",
       "    </tr>\n",
       "    <tr>\n",
       "      <th>10</th>\n",
       "      <td>0</td>\n",
       "      <td>0</td>\n",
       "    </tr>\n",
       "    <tr>\n",
       "      <th>11</th>\n",
       "      <td>6</td>\n",
       "      <td>6</td>\n",
       "    </tr>\n",
       "    <tr>\n",
       "      <th>12</th>\n",
       "      <td>9</td>\n",
       "      <td>9</td>\n",
       "    </tr>\n",
       "    <tr>\n",
       "      <th>13</th>\n",
       "      <td>0</td>\n",
       "      <td>0</td>\n",
       "    </tr>\n",
       "    <tr>\n",
       "      <th>14</th>\n",
       "      <td>1</td>\n",
       "      <td>1</td>\n",
       "    </tr>\n",
       "  </tbody>\n",
       "</table>\n",
       "</div>"
      ],
      "text/plain": [
       "    y(actual)  y(predict)\n",
       "0           7           7\n",
       "1           2           2\n",
       "2           1           1\n",
       "3           0           0\n",
       "4           4           4\n",
       "5           1           1\n",
       "6           4           4\n",
       "7           9           9\n",
       "8           5           5\n",
       "9           9           9\n",
       "10          0           0\n",
       "11          6           6\n",
       "12          9           9\n",
       "13          0           0\n",
       "14          1           1"
      ]
     },
     "execution_count": 32,
     "metadata": {},
     "output_type": "execute_result"
    }
   ],
   "source": [
    "y_predict = model.predict(X_test)\n",
    "y_predict = np.argmax(y_predict, axis=1)\n",
    "\n",
    "accuracy = (y_predict == y_test).mean()\n",
    "\n",
    "print(\"Accuracy = {0:.5f}\".format(accuracy))\n",
    "pd.DataFrame({'y(actual)': y_test, 'y(predict)': y_predict}).head(15)"
   ]
  },
  {
   "cell_type": "code",
   "execution_count": null,
   "metadata": {
    "collapsed": true
   },
   "outputs": [],
   "source": []
  },
  {
   "cell_type": "code",
   "execution_count": null,
   "metadata": {
    "collapsed": true
   },
   "outputs": [],
   "source": []
  },
  {
   "cell_type": "code",
   "execution_count": null,
   "metadata": {
    "collapsed": true
   },
   "outputs": [],
   "source": []
  },
  {
   "cell_type": "code",
   "execution_count": null,
   "metadata": {
    "collapsed": true
   },
   "outputs": [],
   "source": []
  },
  {
   "cell_type": "code",
   "execution_count": null,
   "metadata": {
    "collapsed": true
   },
   "outputs": [],
   "source": []
  },
  {
   "cell_type": "code",
   "execution_count": null,
   "metadata": {
    "collapsed": true
   },
   "outputs": [],
   "source": []
  },
  {
   "cell_type": "code",
   "execution_count": null,
   "metadata": {
    "collapsed": true
   },
   "outputs": [],
   "source": []
  },
  {
   "cell_type": "code",
   "execution_count": null,
   "metadata": {
    "collapsed": true
   },
   "outputs": [],
   "source": []
  },
  {
   "cell_type": "code",
   "execution_count": null,
   "metadata": {
    "collapsed": true
   },
   "outputs": [],
   "source": []
  },
  {
   "cell_type": "code",
   "execution_count": null,
   "metadata": {
    "collapsed": true
   },
   "outputs": [],
   "source": []
  }
 ],
 "metadata": {
  "kernelspec": {
   "display_name": "Python 3",
   "language": "python",
   "name": "python3"
  },
  "language_info": {
   "codemirror_mode": {
    "name": "ipython",
    "version": 3
   },
   "file_extension": ".py",
   "mimetype": "text/x-python",
   "name": "python",
   "nbconvert_exporter": "python",
   "pygments_lexer": "ipython3",
   "version": "3.6.3"
  }
 },
 "nbformat": 4,
 "nbformat_minor": 2
}
