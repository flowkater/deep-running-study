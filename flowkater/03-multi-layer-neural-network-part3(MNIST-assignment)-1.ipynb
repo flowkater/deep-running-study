{
 "cells": [
  {
   "cell_type": "code",
   "execution_count": 1,
   "metadata": {
    "collapsed": true
   },
   "outputs": [],
   "source": [
    "%matplotlib inline\n",
    "import numpy as np\n",
    "import matplotlib.pyplot as plt"
   ]
  },
  {
   "cell_type": "markdown",
   "metadata": {},
   "source": [
    "## Load MNIST Dataset\n",
    "  * see [this link](http://yann.lecun.com/exdb/mnist/)"
   ]
  },
  {
   "cell_type": "code",
   "execution_count": 2,
   "metadata": {},
   "outputs": [],
   "source": [
    "from keras.datasets import mnist\n",
    "\n",
    "((X_train, y_train), (X_test, y_test)) = mnist.load_data()"
   ]
  },
  {
   "cell_type": "code",
   "execution_count": 3,
   "metadata": {},
   "outputs": [
    {
     "ename": "NameError",
     "evalue": "name 'plt' is not defined",
     "output_type": "error",
     "traceback": [
      "\u001b[0;31m---------------------------------------------------------------------------\u001b[0m",
      "\u001b[0;31mNameError\u001b[0m                                 Traceback (most recent call last)",
      "\u001b[0;32m<ipython-input-3-3500694fe4bd>\u001b[0m in \u001b[0;36m<module>\u001b[0;34m()\u001b[0m\n\u001b[0;32m----> 1\u001b[0;31m \u001b[0mfigure\u001b[0m\u001b[0;34m,\u001b[0m \u001b[0maxes\u001b[0m \u001b[0;34m=\u001b[0m \u001b[0mplt\u001b[0m\u001b[0;34m.\u001b[0m\u001b[0msubplots\u001b[0m\u001b[0;34m(\u001b[0m\u001b[0mnrows\u001b[0m\u001b[0;34m=\u001b[0m\u001b[0;36m3\u001b[0m\u001b[0;34m,\u001b[0m \u001b[0mncols\u001b[0m\u001b[0;34m=\u001b[0m\u001b[0;36m5\u001b[0m\u001b[0;34m)\u001b[0m\u001b[0;34m\u001b[0m\u001b[0m\n\u001b[0m\u001b[1;32m      2\u001b[0m \u001b[0mfigure\u001b[0m\u001b[0;34m.\u001b[0m\u001b[0mset_size_inches\u001b[0m\u001b[0;34m(\u001b[0m\u001b[0;36m18\u001b[0m\u001b[0;34m,\u001b[0m \u001b[0;36m12\u001b[0m\u001b[0;34m)\u001b[0m\u001b[0;34m\u001b[0m\u001b[0m\n\u001b[1;32m      3\u001b[0m \u001b[0;34m\u001b[0m\u001b[0m\n\u001b[1;32m      4\u001b[0m \u001b[0mplt\u001b[0m\u001b[0;34m.\u001b[0m\u001b[0mgray\u001b[0m\u001b[0;34m(\u001b[0m\u001b[0;34m)\u001b[0m\u001b[0;34m\u001b[0m\u001b[0m\n\u001b[1;32m      5\u001b[0m \u001b[0;34m\u001b[0m\u001b[0m\n",
      "\u001b[0;31mNameError\u001b[0m: name 'plt' is not defined"
     ]
    }
   ],
   "source": [
    "figure, axes = plt.subplots(nrows=3, ncols=5)\n",
    "figure.set_size_inches(18, 12)\n",
    "\n",
    "plt.gray()\n",
    "\n",
    "print(\"label = {0}\".format(y_train[0:15]))\n",
    "\n",
    "axes[0][0].matshow(X_train[0])\n",
    "axes[0][1].matshow(X_train[1])\n",
    "axes[0][2].matshow(X_train[2])\n",
    "axes[0][3].matshow(X_train[3])\n",
    "axes[0][4].matshow(X_train[4])\n",
    "axes[1][0].matshow(X_train[5])\n",
    "axes[1][1].matshow(X_train[6])\n",
    "axes[1][2].matshow(X_train[7])\n",
    "axes[1][3].matshow(X_train[8])\n",
    "axes[1][4].matshow(X_train[9])\n",
    "axes[2][0].matshow(X_train[10])\n",
    "axes[2][1].matshow(X_train[11])\n",
    "axes[2][2].matshow(X_train[12])\n",
    "axes[2][3].matshow(X_train[13])\n",
    "axes[2][4].matshow(X_train[14])"
   ]
  },
  {
   "cell_type": "markdown",
   "metadata": {
    "collapsed": true
   },
   "source": [
    "### Preprocessing"
   ]
  },
  {
   "cell_type": "code",
   "execution_count": 178,
   "metadata": {},
   "outputs": [
    {
     "name": "stdout",
     "output_type": "stream",
     "text": [
      "(60000, 784) (10000, 784)\n"
     ]
    }
   ],
   "source": [
    "X_train = X_train.reshape(60000, 28 * 28)\n",
    "X_test = X_test.reshape(10000, 28 * 28)\n",
    "\n",
    "print(X_train.shape, X_test.shape)"
   ]
  },
  {
   "cell_type": "code",
   "execution_count": 1,
   "metadata": {},
   "outputs": [
    {
     "name": "stderr",
     "output_type": "stream",
     "text": [
      "Using TensorFlow backend.\n"
     ]
    },
    {
     "ename": "NameError",
     "evalue": "name 'y_train' is not defined",
     "output_type": "error",
     "traceback": [
      "\u001b[0;31m---------------------------------------------------------------------------\u001b[0m",
      "\u001b[0;31mNameError\u001b[0m                                 Traceback (most recent call last)",
      "\u001b[0;32m<ipython-input-1-70201966f45f>\u001b[0m in \u001b[0;36m<module>\u001b[0;34m()\u001b[0m\n\u001b[1;32m      1\u001b[0m \u001b[0;32mfrom\u001b[0m \u001b[0mkeras\u001b[0m\u001b[0;34m.\u001b[0m\u001b[0mutils\u001b[0m \u001b[0;32mimport\u001b[0m \u001b[0mto_categorical\u001b[0m\u001b[0;34m\u001b[0m\u001b[0m\n\u001b[1;32m      2\u001b[0m \u001b[0;34m\u001b[0m\u001b[0m\n\u001b[0;32m----> 3\u001b[0;31m \u001b[0my_train_hot\u001b[0m \u001b[0;34m=\u001b[0m \u001b[0mto_categorical\u001b[0m\u001b[0;34m(\u001b[0m\u001b[0my_train\u001b[0m\u001b[0;34m)\u001b[0m\u001b[0;34m\u001b[0m\u001b[0m\n\u001b[0m\u001b[1;32m      4\u001b[0m \u001b[0my_test_hot\u001b[0m \u001b[0;34m=\u001b[0m \u001b[0mto_categorical\u001b[0m\u001b[0;34m(\u001b[0m\u001b[0my_test\u001b[0m\u001b[0;34m)\u001b[0m\u001b[0;34m\u001b[0m\u001b[0m\n\u001b[1;32m      5\u001b[0m \u001b[0;34m\u001b[0m\u001b[0m\n",
      "\u001b[0;31mNameError\u001b[0m: name 'y_train' is not defined"
     ]
    }
   ],
   "source": [
    "from keras.utils import to_categorical\n",
    "\n",
    "y_train_hot = to_categorical(y_train)\n",
    "y_test_hot = to_categorical(y_test)\n",
    "\n",
    "print(y_train_hot.shape, y_test_hot.shape)"
   ]
  },
  {
   "cell_type": "markdown",
   "metadata": {},
   "source": [
    "### Define Sigmoid"
   ]
  },
  {
   "cell_type": "code",
   "execution_count": 7,
   "metadata": {},
   "outputs": [
    {
     "name": "stdout",
     "output_type": "stream",
     "text": [
      "0.000123394575986\n",
      "0.5\n",
      "0.999876605424\n"
     ]
    },
    {
     "data": {
      "image/png": "[encoded data removed]",
      "text/plain": [
       "<matplotlib.figure.Figure at 0x10eae73c8>"
      ]
     },
     "metadata": {},
     "output_type": "display_data"
    }
   ],
   "source": [
    "def sigmoid(n):\n",
    "    return 1 / (1 + np.exp(-n))\n",
    "\n",
    "xx = np.linspace(start=-9.0, stop=+9.0)\n",
    "yy = sigmoid(xx)\n",
    "\n",
    "plt.plot(xx, yy)\n",
    "\n",
    "print(sigmoid(-9))\n",
    "print(sigmoid(0))\n",
    "print(sigmoid(+9))"
   ]
  },
  {
   "cell_type": "markdown",
   "metadata": {
    "collapsed": true
   },
   "source": [
    "### Multi-layer Neural Network"
   ]
  },
  {
   "cell_type": "markdown",
   "metadata": {},
   "source": [
    "- 이미지 셋 느리다. 수렴이 안된다.\n",
    "    - 웨이트 초기화, 러닝 레이트\n",
    "    - +bias 추가\n",
    "    - Hidden layer 를 두개와 세개로 추가"
   ]
  },
  {
   "cell_type": "markdown",
   "metadata": {},
   "source": [
    "#### One Hidden Layer"
   ]
  },
  {
   "cell_type": "code",
   "execution_count": 209,
   "metadata": {},
   "outputs": [
    {
     "name": "stdout",
     "output_type": "stream",
     "text": [
      " 0 error = 0.91558\n",
      "w1(mean) = -0.00006 w1(std) = 0.03349\n",
      "w2(mean) = 0.00001 w2(std) = 0.04439\n",
      "b1(mean) = 0.00000 b1(std) = 0.00000\n",
      "b2(mean) = 0.00000 b2(std) = 0.00000\n",
      "10 error = 0.19812\n",
      "w1(mean) = -0.00029 w1(std) = 0.03351\n",
      "w2(mean) = -0.00376 w2(std) = 0.04439\n",
      "b1(mean) = -0.00000 b1(std) = 0.00000\n",
      "b2(mean) = -0.00000 b2(std) = 0.00000\n",
      "20 error = 0.14410\n",
      "w1(mean) = -0.00026 w1(std) = 0.03351\n",
      "w2(mean) = -0.00440 w2(std) = 0.04539\n",
      "b1(mean) = -0.00000 b1(std) = 0.00000\n",
      "b2(mean) = -0.00000 b2(std) = 0.00000\n",
      "30 error = 0.12360\n",
      "w1(mean) = -0.00025 w1(std) = 0.03351\n",
      "w2(mean) = -0.00485 w2(std) = 0.04628\n",
      "b1(mean) = -0.00000 b1(std) = 0.00000\n",
      "b2(mean) = -0.00000 b2(std) = 0.00000\n",
      "40 error = 0.11083\n",
      "w1(mean) = -0.00024 w1(std) = 0.03351\n",
      "w2(mean) = -0.00520 w2(std) = 0.04708\n",
      "b1(mean) = -0.00000 b1(std) = 0.00000\n",
      "b2(mean) = -0.00000 b2(std) = 0.00000\n"
     ]
    },
    {
     "ename": "KeyboardInterrupt",
     "evalue": "",
     "output_type": "error",
     "traceback": [
      "\u001b[0;31m---------------------------------------------------------------------------\u001b[0m",
      "\u001b[0;31mKeyboardInterrupt\u001b[0m                         Traceback (most recent call last)",
      "\u001b[0;32m<ipython-input-209-12c0348b8a3c>\u001b[0m in \u001b[0;36m<module>\u001b[0;34m()\u001b[0m\n\u001b[1;32m     10\u001b[0m \u001b[0;32mfor\u001b[0m \u001b[0mepoch\u001b[0m \u001b[0;32min\u001b[0m \u001b[0mrange\u001b[0m\u001b[0;34m(\u001b[0m\u001b[0mnum_epoch\u001b[0m\u001b[0;34m)\u001b[0m\u001b[0;34m:\u001b[0m\u001b[0;34m\u001b[0m\u001b[0m\n\u001b[1;32m     11\u001b[0m     \u001b[0;31m# Forward propagation\u001b[0m\u001b[0;34m\u001b[0m\u001b[0;34m\u001b[0m\u001b[0m\n\u001b[0;32m---> 12\u001b[0;31m     \u001b[0mz1\u001b[0m \u001b[0;34m=\u001b[0m \u001b[0mX_train\u001b[0m\u001b[0;34m.\u001b[0m\u001b[0mdot\u001b[0m\u001b[0;34m(\u001b[0m\u001b[0mw1\u001b[0m\u001b[0;34m)\u001b[0m \u001b[0;34m+\u001b[0m \u001b[0mb1\u001b[0m\u001b[0;34m\u001b[0m\u001b[0m\n\u001b[0m\u001b[1;32m     13\u001b[0m     \u001b[0ma1\u001b[0m \u001b[0;34m=\u001b[0m \u001b[0msigmoid\u001b[0m\u001b[0;34m(\u001b[0m\u001b[0mz1\u001b[0m\u001b[0;34m)\u001b[0m\u001b[0;34m\u001b[0m\u001b[0m\n\u001b[1;32m     14\u001b[0m     \u001b[0mz2\u001b[0m \u001b[0;34m=\u001b[0m \u001b[0ma1\u001b[0m\u001b[0;34m.\u001b[0m\u001b[0mdot\u001b[0m\u001b[0;34m(\u001b[0m\u001b[0mw2\u001b[0m\u001b[0;34m)\u001b[0m \u001b[0;34m+\u001b[0m \u001b[0mb2\u001b[0m\u001b[0;34m\u001b[0m\u001b[0m\n",
      "\u001b[0;31mKeyboardInterrupt\u001b[0m: "
     ]
    }
   ],
   "source": [
    "w1 = np.random.uniform(low=-0.058, high=+0.058, size=(784, 1000))\n",
    "w2 = np.random.uniform(low=-0.077, high=+0.077, size=(1000, 10))\n",
    "\n",
    "b1 = np.random.uniform(low=0, high=0, size=(1, 1000))\n",
    "b2 = np.random.uniform(low=0, high=0, size=(1, 10))\n",
    "\n",
    "num_epoch = 100\n",
    "learning_rate = 0.000001\n",
    "\n",
    "for epoch in range(num_epoch):\n",
    "    # Forward propagation\n",
    "    z1 = X_train.dot(w1) + b1\n",
    "    a1 = sigmoid(z1)\n",
    "    z2 = a1.dot(w2) + b2\n",
    "    a2 = sigmoid(z2)\n",
    "    \n",
    "    predict = a2.argmax(axis=1)\n",
    "    error = (predict != y_train).mean()\n",
    "    \n",
    "    if error < 0.05:\n",
    "        break\n",
    "        \n",
    "    if epoch % 10 == 0:\n",
    "        print(\"{0:2} error = {1:.5f}\".format(epoch, error))\n",
    "        print(\"w1(mean) = {0:.5f} w1(std) = {1:.5f}\".format(w1.mean(), w1.std()))\n",
    "        print(\"w2(mean) = {0:.5f} w2(std) = {1:.5f}\".format(w2.mean(), w2.std()))\n",
    "        print(\"b1(mean) = {0:.5f} b1(std) = {1:.5f}\".format(b1.mean(), b1.std()))\n",
    "        print(\"b2(mean) = {0:.5f} b2(std) = {1:.5f}\".format(b2.mean(), b2.std()))\n",
    "    \n",
    "    # Backpropagation\n",
    "    d2 = a2 - y_train_hot\n",
    "    d1 = (d2.dot(w2.T) * a1 * (1 - a1))\n",
    "    \n",
    "    w2 = w2 - learning_rate * a1.T.dot(d2)\n",
    "    w1 = w1 - learning_rate * X_train.T.dot(d1)\n",
    "\n",
    "    b2 = b2 - learning_rate * d2.mean(axis=0)\n",
    "    b1 = b1 - learning_rate * d1.mean(axis=0)\n",
    "    \n",
    "print(\"---\" * 10)\n",
    "print(\"{0:2} error = {1:.5f}\".format(epoch, error))"
   ]
  },
  {
   "cell_type": "markdown",
   "metadata": {
    "collapsed": true
   },
   "source": [
    "### 2 hidden layer"
   ]
  },
  {
   "cell_type": "code",
   "execution_count": null,
   "metadata": {},
   "outputs": [
    {
     "name": "stdout",
     "output_type": "stream",
     "text": [
      " 0 error = 0.90102\n",
      "w1(mean) = -0.00001 w1(std) = 0.03348\n",
      "w2(mean) = 0.00007 w2(std) = 0.03178\n",
      "w3(mean) = 0.00021 w3(std) = 0.04419\n",
      "b1(mean) = 0.00000 b1(std) = 0.00000\n",
      "b2(mean) = 0.00000 b2(std) = 0.00000\n",
      "b3(mean) = 0.00000 b3(std) = 0.00000\n",
      "10 error = 0.39200\n",
      "w1(mean) = -0.00005 w1(std) = 0.03348\n",
      "w2(mean) = -0.00016 w2(std) = 0.03178\n",
      "w3(mean) = -0.00394 w3(std) = 0.04407\n",
      "b1(mean) = -0.00000 b1(std) = 0.00000\n",
      "b2(mean) = -0.00000 b2(std) = 0.00000\n",
      "b3(mean) = -0.00000 b3(std) = 0.00000\n",
      "20 error = 0.27858\n",
      "w1(mean) = -0.00005 w1(std) = 0.03348\n",
      "w2(mean) = -0.00015 w2(std) = 0.03179\n",
      "w3(mean) = -0.00405 w3(std) = 0.04470\n",
      "b1(mean) = -0.00000 b1(std) = 0.00000\n",
      "b2(mean) = -0.00000 b2(std) = 0.00000\n",
      "b3(mean) = -0.00000 b3(std) = 0.00000\n",
      "30 error = 0.23153\n",
      "w1(mean) = -0.00005 w1(std) = 0.03348\n",
      "w2(mean) = -0.00014 w2(std) = 0.03180\n",
      "w3(mean) = -0.00422 w3(std) = 0.04559\n",
      "b1(mean) = -0.00000 b1(std) = 0.00000\n",
      "b2(mean) = -0.00000 b2(std) = 0.00000\n",
      "b3(mean) = -0.00000 b3(std) = 0.00000\n",
      "40 error = 0.20547\n",
      "w1(mean) = -0.00005 w1(std) = 0.03348\n",
      "w2(mean) = -0.00013 w2(std) = 0.03181\n",
      "w3(mean) = -0.00443 w3(std) = 0.04662\n",
      "b1(mean) = -0.00000 b1(std) = 0.00000\n",
      "b2(mean) = -0.00000 b2(std) = 0.00000\n",
      "b3(mean) = -0.00000 b3(std) = 0.00000\n",
      "50 error = 0.18683\n",
      "w1(mean) = -0.00005 w1(std) = 0.03348\n",
      "w2(mean) = -0.00012 w2(std) = 0.03183\n",
      "w3(mean) = -0.00467 w3(std) = 0.04770\n",
      "b1(mean) = -0.00000 b1(std) = 0.00000\n",
      "b2(mean) = -0.00000 b2(std) = 0.00000\n",
      "b3(mean) = -0.00000 b3(std) = 0.00000\n",
      "60 error = 0.17352\n",
      "w1(mean) = -0.00005 w1(std) = 0.03348\n",
      "w2(mean) = -0.00011 w2(std) = 0.03184\n",
      "w3(mean) = -0.00492 w3(std) = 0.04879\n",
      "b1(mean) = -0.00000 b1(std) = 0.00000\n",
      "b2(mean) = -0.00000 b2(std) = 0.00000\n",
      "b3(mean) = -0.00000 b3(std) = 0.00000\n",
      "70 error = 0.16398\n",
      "w1(mean) = -0.00005 w1(std) = 0.03348\n",
      "w2(mean) = -0.00010 w2(std) = 0.03186\n",
      "w3(mean) = -0.00518 w3(std) = 0.04984\n",
      "b1(mean) = -0.00000 b1(std) = 0.00000\n",
      "b2(mean) = -0.00000 b2(std) = 0.00000\n",
      "b3(mean) = -0.00000 b3(std) = 0.00000\n",
      "80 error = 0.15453\n",
      "w1(mean) = -0.00005 w1(std) = 0.03348\n",
      "w2(mean) = -0.00009 w2(std) = 0.03187\n",
      "w3(mean) = -0.00542 w3(std) = 0.05086\n",
      "b1(mean) = -0.00000 b1(std) = 0.00000\n",
      "b2(mean) = -0.00000 b2(std) = 0.00000\n",
      "b3(mean) = -0.00000 b3(std) = 0.00000\n",
      "90 error = 0.14697\n",
      "w1(mean) = -0.00005 w1(std) = 0.03348\n",
      "w2(mean) = -0.00009 w2(std) = 0.03188\n",
      "w3(mean) = -0.00566 w3(std) = 0.05182\n",
      "b1(mean) = -0.00000 b1(std) = 0.00000\n",
      "b2(mean) = -0.00000 b2(std) = 0.00000\n",
      "b3(mean) = -0.00000 b3(std) = 0.00000\n",
      "100 error = 0.14048\n",
      "w1(mean) = -0.00005 w1(std) = 0.03348\n",
      "w2(mean) = -0.00008 w2(std) = 0.03190\n",
      "w3(mean) = -0.00588 w3(std) = 0.05274\n",
      "b1(mean) = -0.00000 b1(std) = 0.00000\n",
      "b2(mean) = -0.00000 b2(std) = 0.00000\n",
      "b3(mean) = -0.00000 b3(std) = 0.00000\n",
      "110 error = 0.13547\n",
      "w1(mean) = -0.00005 w1(std) = 0.03348\n",
      "w2(mean) = -0.00007 w2(std) = 0.03191\n",
      "w3(mean) = -0.00609 w3(std) = 0.05360\n",
      "b1(mean) = -0.00000 b1(std) = 0.00000\n",
      "b2(mean) = -0.00000 b2(std) = 0.00000\n",
      "b3(mean) = -0.00000 b3(std) = 0.00000\n",
      "120 error = 0.13038\n",
      "w1(mean) = -0.00005 w1(std) = 0.03348\n",
      "w2(mean) = -0.00007 w2(std) = 0.03192\n",
      "w3(mean) = -0.00629 w3(std) = 0.05442\n",
      "b1(mean) = -0.00000 b1(std) = 0.00000\n",
      "b2(mean) = -0.00000 b2(std) = 0.00000\n",
      "b3(mean) = -0.00000 b3(std) = 0.00000\n",
      "130 error = 0.12567\n",
      "w1(mean) = -0.00005 w1(std) = 0.03348\n",
      "w2(mean) = -0.00006 w2(std) = 0.03193\n",
      "w3(mean) = -0.00647 w3(std) = 0.05520\n",
      "b1(mean) = -0.00000 b1(std) = 0.00000\n",
      "b2(mean) = -0.00000 b2(std) = 0.00000\n",
      "b3(mean) = -0.00000 b3(std) = 0.00000\n",
      "140 error = 0.12143\n",
      "w1(mean) = -0.00005 w1(std) = 0.03348\n",
      "w2(mean) = -0.00006 w2(std) = 0.03194\n",
      "w3(mean) = -0.00665 w3(std) = 0.05595\n",
      "b1(mean) = -0.00000 b1(std) = 0.00000\n",
      "b2(mean) = -0.00000 b2(std) = 0.00000\n",
      "b3(mean) = -0.00000 b3(std) = 0.00000\n",
      "150 error = 0.11762\n",
      "w1(mean) = -0.00005 w1(std) = 0.03348\n",
      "w2(mean) = -0.00006 w2(std) = 0.03195\n",
      "w3(mean) = -0.00682 w3(std) = 0.05665\n",
      "b1(mean) = -0.00000 b1(std) = 0.00000\n",
      "b2(mean) = -0.00000 b2(std) = 0.00000\n",
      "b3(mean) = -0.00000 b3(std) = 0.00000\n",
      "160 error = 0.11472\n",
      "w1(mean) = -0.00005 w1(std) = 0.03348\n",
      "w2(mean) = -0.00005 w2(std) = 0.03196\n",
      "w3(mean) = -0.00697 w3(std) = 0.05733\n",
      "b1(mean) = -0.00000 b1(std) = 0.00000\n",
      "b2(mean) = -0.00000 b2(std) = 0.00000\n",
      "b3(mean) = -0.00000 b3(std) = 0.00000\n",
      "170 error = 0.11203\n",
      "w1(mean) = -0.00005 w1(std) = 0.03348\n",
      "w2(mean) = -0.00005 w2(std) = 0.03197\n",
      "w3(mean) = -0.00712 w3(std) = 0.05798\n",
      "b1(mean) = -0.00000 b1(std) = 0.00000\n",
      "b2(mean) = -0.00000 b2(std) = 0.00000\n",
      "b3(mean) = -0.00000 b3(std) = 0.00000\n",
      "180 error = 0.10950\n",
      "w1(mean) = -0.00005 w1(std) = 0.03348\n",
      "w2(mean) = -0.00005 w2(std) = 0.03198\n",
      "w3(mean) = -0.00727 w3(std) = 0.05860\n",
      "b1(mean) = -0.00000 b1(std) = 0.00000\n",
      "b2(mean) = -0.00000 b2(std) = 0.00000\n",
      "b3(mean) = -0.00000 b3(std) = 0.00000\n",
      "190 error = 0.10705\n",
      "w1(mean) = -0.00005 w1(std) = 0.03348\n",
      "w2(mean) = -0.00004 w2(std) = 0.03199\n",
      "w3(mean) = -0.00740 w3(std) = 0.05919\n",
      "b1(mean) = -0.00000 b1(std) = 0.00000\n",
      "b2(mean) = -0.00000 b2(std) = 0.00000\n",
      "b3(mean) = -0.00000 b3(std) = 0.00000\n",
      "200 error = 0.10517\n",
      "w1(mean) = -0.00005 w1(std) = 0.03348\n",
      "w2(mean) = -0.00004 w2(std) = 0.03200\n",
      "w3(mean) = -0.00754 w3(std) = 0.05976\n",
      "b1(mean) = -0.00000 b1(std) = 0.00000\n",
      "b2(mean) = -0.00000 b2(std) = 0.00000\n",
      "b3(mean) = -0.00000 b3(std) = 0.00000\n",
      "210 error = 0.10295\n",
      "w1(mean) = -0.00005 w1(std) = 0.03348\n",
      "w2(mean) = -0.00004 w2(std) = 0.03201\n",
      "w3(mean) = -0.00766 w3(std) = 0.06031\n",
      "b1(mean) = -0.00000 b1(std) = 0.00000\n",
      "b2(mean) = -0.00000 b2(std) = 0.00000\n",
      "b3(mean) = -0.00000 b3(std) = 0.00000\n",
      "220 error = 0.10083\n",
      "w1(mean) = -0.00005 w1(std) = 0.03348\n",
      "w2(mean) = -0.00004 w2(std) = 0.03202\n",
      "w3(mean) = -0.00778 w3(std) = 0.06084\n",
      "b1(mean) = -0.00000 b1(std) = 0.00000\n",
      "b2(mean) = -0.00000 b2(std) = 0.00000\n",
      "b3(mean) = -0.00000 b3(std) = 0.00000\n",
      "230 error = 0.09908\n",
      "w1(mean) = -0.00005 w1(std) = 0.03348\n",
      "w2(mean) = -0.00004 w2(std) = 0.03203\n",
      "w3(mean) = -0.00790 w3(std) = 0.06135\n",
      "b1(mean) = -0.00000 b1(std) = 0.00000\n",
      "b2(mean) = -0.00000 b2(std) = 0.00000\n",
      "b3(mean) = -0.00000 b3(std) = 0.00000\n"
     ]
    }
   ],
   "source": [
    "w1 = np.random.uniform(low=-0.058, high=+0.058, size=(784, 1000))\n",
    "w2 = np.random.uniform(low=-0.055, high=+0.055, size=(1000, 1000))\n",
    "w3 = np.random.uniform(low=-0.077, high=+0.077, size=(1000, 10))\n",
    "\n",
    "b1 = np.random.uniform(low=0, high=0, size=(1, 1000))\n",
    "b2 = np.random.uniform(low=0, high=0, size=(1, 1000))\n",
    "b3 = np.random.uniform(low=0, high=0, size=(1, 10))\n",
    "\n",
    "num_epoch = 1000\n",
    "learning_rate = 0.000001\n",
    "\n",
    "for epoch in range(num_epoch):\n",
    "    # Forward propagation\n",
    "    z1 = X_train.dot(w1) + b1\n",
    "    a1 = sigmoid(z1)\n",
    "    z2 = a1.dot(w2) + b2\n",
    "    a2 = sigmoid(z2)\n",
    "    z3 = a2.dot(w3) + b3\n",
    "    a3 = sigmoid(z3)\n",
    "    \n",
    "    predict = a3.argmax(axis=1)\n",
    "    error = (predict != y_train).mean()\n",
    "    \n",
    "    if error < 0.05:\n",
    "        break\n",
    "        \n",
    "    if epoch % 10 == 0:\n",
    "        print(\"{0:2} error = {1:.5f}\".format(epoch, error))\n",
    "        print(\"w1(mean) = {0:.5f} w1(std) = {1:.5f}\".format(w1.mean(), w1.std()))\n",
    "        print(\"w2(mean) = {0:.5f} w2(std) = {1:.5f}\".format(w2.mean(), w2.std()))\n",
    "        print(\"w3(mean) = {0:.5f} w3(std) = {1:.5f}\".format(w3.mean(), w3.std()))\n",
    "        print(\"b1(mean) = {0:.5f} b1(std) = {1:.5f}\".format(b1.mean(), b1.std()))\n",
    "        print(\"b2(mean) = {0:.5f} b2(std) = {1:.5f}\".format(b2.mean(), b2.std()))\n",
    "        print(\"b3(mean) = {0:.5f} b3(std) = {1:.5f}\".format(b3.mean(), b3.std()))\n",
    "    \n",
    "    # Backpropagation\n",
    "    d3 = a3 - y_train_hot\n",
    "    d2 = (d3.dot(w3.T) * a2 * (1 - a2))\n",
    "    d1 = (d2.dot(w2.T) * a1 * (1 - a1))\n",
    "    \n",
    "    w3 = w3 - learning_rate * a2.T.dot(d3)\n",
    "    w2 = w2 - learning_rate * a1.T.dot(d2)\n",
    "    w1 = w1 - learning_rate * X_train.T.dot(d1)\n",
    "\n",
    "    b3 = b3 - learning_rate * d3.mean(axis=0)\n",
    "    b2 = b2 - learning_rate * d2.mean(axis=0)\n",
    "    b1 = b1 - learning_rate * d1.mean(axis=0)\n",
    "    \n",
    "print(\"---\" * 10)\n",
    "print(\"{0:2} error = {1:.5f}\".format(epoch, error))"
   ]
  },
  {
   "cell_type": "code",
   "execution_count": null,
   "metadata": {
    "collapsed": true
   },
   "outputs": [],
   "source": []
  },
  {
   "cell_type": "code",
   "execution_count": null,
   "metadata": {
    "collapsed": true
   },
   "outputs": [],
   "source": []
  },
  {
   "cell_type": "code",
   "execution_count": null,
   "metadata": {
    "collapsed": true
   },
   "outputs": [],
   "source": []
  },
  {
   "cell_type": "code",
   "execution_count": null,
   "metadata": {
    "collapsed": true
   },
   "outputs": [],
   "source": []
  },
  {
   "cell_type": "code",
   "execution_count": null,
   "metadata": {
    "collapsed": true
   },
   "outputs": [],
   "source": []
  },
  {
   "cell_type": "code",
   "execution_count": null,
   "metadata": {
    "collapsed": true
   },
   "outputs": [],
   "source": []
  },
  {
   "cell_type": "code",
   "execution_count": null,
   "metadata": {
    "collapsed": true
   },
   "outputs": [],
   "source": []
  },
  {
   "cell_type": "code",
   "execution_count": null,
   "metadata": {
    "collapsed": true
   },
   "outputs": [],
   "source": []
  },
  {
   "cell_type": "code",
   "execution_count": null,
   "metadata": {
    "collapsed": true
   },
   "outputs": [],
   "source": []
  },
  {
   "cell_type": "code",
   "execution_count": null,
   "metadata": {
    "collapsed": true
   },
   "outputs": [],
   "source": []
  },
  {
   "cell_type": "code",
   "execution_count": null,
   "metadata": {
    "collapsed": true
   },
   "outputs": [],
   "source": []
  },
  {
   "cell_type": "code",
   "execution_count": null,
   "metadata": {
    "collapsed": true
   },
   "outputs": [],
   "source": []
  }
 ],
 "metadata": {
  "kernelspec": {
   "display_name": "Python 3",
   "language": "python",
   "name": "python3"
  },
  "language_info": {
   "codemirror_mode": {
    "name": "ipython",
    "version": 3
   },
   "file_extension": ".py",
   "mimetype": "text/x-python",
   "name": "python",
   "nbconvert_exporter": "python",
   "pygments_lexer": "ipython3",
   "version": "3.6.3"
  }
 },
 "nbformat": 4,
 "nbformat_minor": 2
}
