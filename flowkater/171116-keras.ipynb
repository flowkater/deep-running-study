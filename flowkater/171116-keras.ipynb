{
 "cells": [
  {
   "cell_type": "code",
   "execution_count": 23,
   "metadata": {
    "collapsed": true
   },
   "outputs": [],
   "source": [
    "%matplotlib inline\n",
    "import numpy as np\n",
    "import matplotlib.pyplot as plt\n",
    "import pandas as pd"
   ]
  },
  {
   "cell_type": "markdown",
   "metadata": {},
   "source": [
    "## Load Dataset"
   ]
  },
  {
   "cell_type": "code",
   "execution_count": 3,
   "metadata": {},
   "outputs": [
    {
     "name": "stderr",
     "output_type": "stream",
     "text": [
      "Using TensorFlow backend.\n"
     ]
    },
    {
     "name": "stdout",
     "output_type": "stream",
     "text": [
      "(60000, 28, 28) (60000,)\n",
      "(10000, 28, 28) (10000,)\n"
     ]
    }
   ],
   "source": [
    "from keras.datasets import mnist\n",
    "\n",
    "((X_train, y_train), (X_test, y_test)) = mnist.load_data()\n",
    "\n",
    "print(X_train.shape, y_train.shape)\n",
    "print(X_test.shape, y_test.shape)"
   ]
  },
  {
   "cell_type": "markdown",
   "metadata": {},
   "source": [
    "## Preprocessing"
   ]
  },
  {
   "cell_type": "code",
   "execution_count": 16,
   "metadata": {},
   "outputs": [
    {
     "name": "stdout",
     "output_type": "stream",
     "text": [
      "(60000, 784) (10000, 784)\n"
     ]
    }
   ],
   "source": [
    "X_train = X_train.reshape(60000, 28 * 28)\n",
    "X_test = X_test.reshape(10000, 28 * 28)\n",
    "\n",
    "print(X_train.shape, X_test.shape)"
   ]
  },
  {
   "cell_type": "code",
   "execution_count": 17,
   "metadata": {},
   "outputs": [
    {
     "name": "stdout",
     "output_type": "stream",
     "text": [
      "(60000, 10) (10000, 10)\n",
      "Label = [5 0 4]\n",
      "[[ 0.  0.  0.  0.  0.  1.  0.  0.  0.  0.]\n",
      " [ 1.  0.  0.  0.  0.  0.  0.  0.  0.  0.]\n",
      " [ 0.  0.  0.  0.  1.  0.  0.  0.  0.  0.]]\n",
      "Label = [7 2 1]\n",
      "[[ 0.  0.  0.  0.  0.  0.  0.  1.  0.  0.]\n",
      " [ 0.  0.  1.  0.  0.  0.  0.  0.  0.  0.]\n",
      " [ 0.  1.  0.  0.  0.  0.  0.  0.  0.  0.]]\n"
     ]
    }
   ],
   "source": [
    "from keras.utils import to_categorical\n",
    "\n",
    "y_train_hot = to_categorical(y_train)\n",
    "y_test_hot = to_categorical(y_test)\n",
    "\n",
    "print(y_train_hot.shape, y_test_hot.shape)\n",
    "\n",
    "print(\"Label = {0}\".format(y_train[0:3]))\n",
    "print(y_train_hot[0:3])\n",
    "\n",
    "print(\"Label = {0}\".format(y_test[0:3]))\n",
    "print(y_test_hot[0:3])"
   ]
  },
  {
   "cell_type": "markdown",
   "metadata": {},
   "source": [
    "## Build a model"
   ]
  },
  {
   "cell_type": "markdown",
   "metadata": {},
   "source": [
    "### Single Layer"
   ]
  },
  {
   "cell_type": "code",
   "execution_count": 39,
   "metadata": {
    "collapsed": true
   },
   "outputs": [],
   "source": [
    "from keras.models import Sequential\n",
    "from keras.layers import Dense\n",
    "from keras.initializers import RandomUniform\n",
    "from keras.optimizers import SGD\n",
    "\n",
    "model = Sequential()\n",
    "model.add(Dense(units=10, \n",
    "                kernel_initializer=RandomUniform(minval=0.0, maxval=0.001),\n",
    "                activation='sigmoid', \n",
    "                input_dim=28*28))\n",
    "\n",
    "# loss = Cross Entropy\n",
    "# optimizer = Stochastic Gradient Descent (SGD)\n",
    "model.compile(loss='categorical_crossentropy', optimizer=SGD(lr=0.00001), metrics=['accuracy'])"
   ]
  },
  {
   "cell_type": "code",
   "execution_count": 40,
   "metadata": {},
   "outputs": [
    {
     "name": "stdout",
     "output_type": "stream",
     "text": [
      "Epoch 1/100\n",
      "60000/60000 [==============================] - 4s 66us/step - loss: 2.3023 - acc: 0.2048\n",
      "Epoch 2/100\n",
      "60000/60000 [==============================] - 4s 65us/step - loss: 2.0228 - acc: 0.1321\n",
      "Epoch 3/100\n",
      "60000/60000 [==============================] - 4s 73us/step - loss: 1.0415 - acc: 0.1134\n",
      "Epoch 4/100\n",
      "60000/60000 [==============================] - 3s 51us/step - loss: 1.0034 - acc: 0.1182\n",
      "Epoch 5/100\n",
      "60000/60000 [==============================] - 3s 54us/step - loss: 0.9905 - acc: 0.1233\n",
      "Epoch 6/100\n",
      "60000/60000 [==============================] - 4s 73us/step - loss: 0.9835 - acc: 0.1269\n",
      "Epoch 7/100\n",
      "60000/60000 [==============================] - 4s 69us/step - loss: 0.9770 - acc: 0.1333\n",
      "Epoch 8/100\n",
      "60000/60000 [==============================] - 4s 61us/step - loss: 0.9730 - acc: 0.1397\n",
      "Epoch 9/100\n",
      "60000/60000 [==============================] - 3s 56us/step - loss: 0.9694 - acc: 0.1492\n",
      "Epoch 10/100\n",
      "60000/60000 [==============================] - 4s 71us/step - loss: 0.9669 - acc: 0.1630\n",
      "Epoch 11/100\n",
      "60000/60000 [==============================] - 4s 66us/step - loss: 0.9639 - acc: 0.1954\n",
      "Epoch 12/100\n",
      "60000/60000 [==============================] - 4s 62us/step - loss: 0.4923 - acc: 0.7678\n",
      "Epoch 13/100\n",
      "60000/60000 [==============================] - 3s 56us/step - loss: 0.3267 - acc: 0.9098\n",
      "Epoch 14/100\n",
      "60000/60000 [==============================] - 5s 79us/step - loss: 0.3172 - acc: 0.9122\n",
      "Epoch 15/100\n",
      "60000/60000 [==============================] - 4s 60us/step - loss: 0.3093 - acc: 0.9138\n",
      "Epoch 16/100\n",
      "60000/60000 [==============================] - 4s 62us/step - loss: 0.3054 - acc: 0.9151\n",
      "Epoch 17/100\n",
      "60000/60000 [==============================] - 4s 66us/step - loss: 0.3037 - acc: 0.9156\n",
      "Epoch 18/100\n",
      "60000/60000 [==============================] - 5s 76us/step - loss: 0.2988 - acc: 0.9158\n",
      "Epoch 19/100\n",
      "60000/60000 [==============================] - 4s 60us/step - loss: 0.2982 - acc: 0.9156\n",
      "Epoch 20/100\n",
      "60000/60000 [==============================] - 4s 63us/step - loss: 0.2965 - acc: 0.9165\n",
      "Epoch 21/100\n",
      "60000/60000 [==============================] - 4s 67us/step - loss: 0.2957 - acc: 0.9171\n",
      "Epoch 22/100\n",
      "60000/60000 [==============================] - 5s 78us/step - loss: 0.2926 - acc: 0.9173\n",
      "Epoch 23/100\n",
      "60000/60000 [==============================] - 4s 60us/step - loss: 0.2900 - acc: 0.9190\n",
      "Epoch 24/100\n",
      "60000/60000 [==============================] - 4s 60us/step - loss: 0.2899 - acc: 0.9183\n",
      "Epoch 25/100\n",
      "60000/60000 [==============================] - 4s 75us/step - loss: 0.2898 - acc: 0.9180\n",
      "Epoch 26/100\n",
      "60000/60000 [==============================] - 4s 75us/step - loss: 0.2865 - acc: 0.9186\n",
      "Epoch 27/100\n",
      "60000/60000 [==============================] - 4s 67us/step - loss: 0.2867 - acc: 0.9197\n",
      "Epoch 28/100\n",
      "60000/60000 [==============================] - 4s 63us/step - loss: 0.2856 - acc: 0.9194\n",
      "Epoch 29/100\n",
      "60000/60000 [==============================] - 5s 84us/step - loss: 0.2851 - acc: 0.9192\n",
      "Epoch 30/100\n",
      "60000/60000 [==============================] - 4s 65us/step - loss: 0.2852 - acc: 0.9194\n",
      "Epoch 31/100\n",
      "60000/60000 [==============================] - 4s 66us/step - loss: 0.2850 - acc: 0.9195\n",
      "Epoch 32/100\n",
      "60000/60000 [==============================] - 4s 65us/step - loss: 0.2828 - acc: 0.9198\n",
      "Epoch 33/100\n",
      "60000/60000 [==============================] - 5s 82us/step - loss: 0.2842 - acc: 0.9191\n",
      "Epoch 34/100\n",
      "60000/60000 [==============================] - 4s 68us/step - loss: 0.2814 - acc: 0.9205\n",
      "Epoch 35/100\n",
      "60000/60000 [==============================] - 4s 65us/step - loss: 0.2821 - acc: 0.9205\n",
      "Epoch 36/100\n",
      "60000/60000 [==============================] - 4s 65us/step - loss: 0.2799 - acc: 0.9212\n",
      "Epoch 37/100\n",
      "60000/60000 [==============================] - 4s 74us/step - loss: 0.2795 - acc: 0.9207\n",
      "Epoch 38/100\n",
      "60000/60000 [==============================] - 4s 62us/step - loss: 0.2783 - acc: 0.9211\n",
      "Epoch 39/100\n",
      "60000/60000 [==============================] - 4s 63us/step - loss: 0.2805 - acc: 0.9206\n",
      "Epoch 40/100\n",
      "60000/60000 [==============================] - 4s 70us/step - loss: 0.2795 - acc: 0.9213\n",
      "Epoch 41/100\n",
      "60000/60000 [==============================] - 4s 73us/step - loss: 0.2794 - acc: 0.9205\n",
      "Epoch 42/100\n",
      "60000/60000 [==============================] - 4s 62us/step - loss: 0.2788 - acc: 0.9197\n",
      "Epoch 43/100\n",
      "60000/60000 [==============================] - 4s 59us/step - loss: 0.2781 - acc: 0.9214\n",
      "Epoch 44/100\n",
      "60000/60000 [==============================] - 5s 76us/step - loss: 0.2783 - acc: 0.9214\n",
      "Epoch 45/100\n",
      "60000/60000 [==============================] - 4s 68us/step - loss: 0.2759 - acc: 0.9211\n",
      "Epoch 46/100\n",
      "60000/60000 [==============================] - 4s 64us/step - loss: 0.2775 - acc: 0.9218\n",
      "Epoch 47/100\n",
      "60000/60000 [==============================] - 4s 60us/step - loss: 0.2771 - acc: 0.9215\n",
      "Epoch 48/100\n",
      "60000/60000 [==============================] - 5s 85us/step - loss: 0.2756 - acc: 0.9208\n",
      "Epoch 49/100\n",
      "60000/60000 [==============================] - 4s 63us/step - loss: 0.2771 - acc: 0.9205\n",
      "Epoch 50/100\n",
      "60000/60000 [==============================] - 4s 61us/step - loss: 0.2761 - acc: 0.9211\n",
      "Epoch 51/100\n",
      "60000/60000 [==============================] - 4s 61us/step - loss: 0.2747 - acc: 0.9210\n",
      "Epoch 52/100\n",
      "60000/60000 [==============================] - 5s 82us/step - loss: 0.2747 - acc: 0.9226\n",
      "Epoch 53/100\n",
      "60000/60000 [==============================] - 4s 59us/step - loss: 0.2751 - acc: 0.9224\n",
      "Epoch 54/100\n",
      "60000/60000 [==============================] - 4s 72us/step - loss: 0.2744 - acc: 0.9233\n",
      "Epoch 55/100\n",
      "60000/60000 [==============================] - 4s 75us/step - loss: 0.2729 - acc: 0.9222\n",
      "Epoch 56/100\n",
      "60000/60000 [==============================] - 5s 80us/step - loss: 0.2735 - acc: 0.9212\n",
      "Epoch 57/100\n",
      "60000/60000 [==============================] - ETA: 0s - loss: 0.2738 - acc: 0.922 - 4s 63us/step - loss: 0.2737 - acc: 0.9222\n",
      "Epoch 58/100\n",
      "60000/60000 [==============================] - 4s 71us/step - loss: 0.2718 - acc: 0.9235\n",
      "Epoch 59/100\n",
      "60000/60000 [==============================] - 5s 79us/step - loss: 0.2730 - acc: 0.9216\n",
      "Epoch 60/100\n",
      "60000/60000 [==============================] - 4s 74us/step - loss: 0.2706 - acc: 0.9222\n",
      "Epoch 61/100\n",
      "60000/60000 [==============================] - 4s 68us/step - loss: 0.2703 - acc: 0.9225\n",
      "Epoch 62/100\n",
      "60000/60000 [==============================] - 4s 59us/step - loss: 0.2725 - acc: 0.9229\n",
      "Epoch 63/100\n",
      "60000/60000 [==============================] - 5s 84us/step - loss: 0.2727 - acc: 0.9219\n",
      "Epoch 64/100\n",
      "60000/60000 [==============================] - 4s 64us/step - loss: 0.2718 - acc: 0.9221\n",
      "Epoch 65/100\n",
      "60000/60000 [==============================] - 4s 65us/step - loss: 0.2722 - acc: 0.9230\n",
      "Epoch 66/100\n",
      "60000/60000 [==============================] - 4s 68us/step - loss: 0.2727 - acc: 0.9204\n",
      "Epoch 67/100\n",
      "60000/60000 [==============================] - 4s 75us/step - loss: 0.2703 - acc: 0.9230\n",
      "Epoch 68/100\n",
      "60000/60000 [==============================] - 4s 61us/step - loss: 0.2718 - acc: 0.9226\n",
      "Epoch 69/100\n",
      "60000/60000 [==============================] - 4s 63us/step - loss: 0.2681 - acc: 0.9232\n",
      "Epoch 70/100\n",
      "60000/60000 [==============================] - 4s 67us/step - loss: 0.2701 - acc: 0.9228\n",
      "Epoch 71/100\n",
      "60000/60000 [==============================] - 5s 78us/step - loss: 0.2685 - acc: 0.9237\n",
      "Epoch 72/100\n",
      "60000/60000 [==============================] - 4s 65us/step - loss: 0.2690 - acc: 0.9229\n",
      "Epoch 73/100\n",
      "60000/60000 [==============================] - 4s 60us/step - loss: 0.2693 - acc: 0.9226\n",
      "Epoch 74/100\n",
      "60000/60000 [==============================] - 4s 74us/step - loss: 0.2706 - acc: 0.9239\n",
      "Epoch 75/100\n",
      "60000/60000 [==============================] - 4s 72us/step - loss: 0.2687 - acc: 0.9233\n",
      "Epoch 76/100\n",
      "60000/60000 [==============================] - 4s 66us/step - loss: 0.2709 - acc: 0.9229\n",
      "Epoch 77/100\n",
      "60000/60000 [==============================] - 4s 70us/step - loss: 0.2689 - acc: 0.9228\n",
      "Epoch 78/100\n",
      "60000/60000 [==============================] - 5s 83us/step - loss: 0.2688 - acc: 0.9228\n",
      "Epoch 79/100\n",
      "60000/60000 [==============================] - 5s 77us/step - loss: 0.2683 - acc: 0.9241\n",
      "Epoch 80/100\n",
      "60000/60000 [==============================] - 4s 66us/step - loss: 0.2672 - acc: 0.9235\n",
      "Epoch 81/100\n"
     ]
    },
    {
     "name": "stdout",
     "output_type": "stream",
     "text": [
      "60000/60000 [==============================] - 4s 59us/step - loss: 0.2684 - acc: 0.9234\n",
      "Epoch 82/100\n",
      "60000/60000 [==============================] - 5s 77us/step - loss: 0.2678 - acc: 0.9231\n",
      "Epoch 83/100\n",
      "60000/60000 [==============================] - 4s 59us/step - loss: 0.2671 - acc: 0.9237\n",
      "Epoch 84/100\n",
      "60000/60000 [==============================] - 4s 62us/step - loss: 0.2683 - acc: 0.9235\n",
      "Epoch 85/100\n",
      "60000/60000 [==============================] - 4s 66us/step - loss: 0.2674 - acc: 0.9230\n",
      "Epoch 86/100\n",
      "60000/60000 [==============================] - 4s 70us/step - loss: 0.2667 - acc: 0.9235\n",
      "Epoch 87/100\n",
      "60000/60000 [==============================] - 4s 59us/step - loss: 0.2662 - acc: 0.9235\n",
      "Epoch 88/100\n",
      "60000/60000 [==============================] - 4s 64us/step - loss: 0.2670 - acc: 0.9239\n",
      "Epoch 89/100\n",
      "60000/60000 [==============================] - 4s 67us/step - loss: 0.2662 - acc: 0.9248\n",
      "Epoch 90/100\n",
      "60000/60000 [==============================] - 5s 79us/step - loss: 0.2661 - acc: 0.9235\n",
      "Epoch 91/100\n",
      "60000/60000 [==============================] - 3s 56us/step - loss: 0.2659 - acc: 0.9240\n",
      "Epoch 92/100\n",
      "60000/60000 [==============================] - 4s 67us/step - loss: 0.2678 - acc: 0.9239\n",
      "Epoch 93/100\n",
      "60000/60000 [==============================] - 4s 73us/step - loss: 0.2653 - acc: 0.9243\n",
      "Epoch 94/100\n",
      "60000/60000 [==============================] - 4s 70us/step - loss: 0.2679 - acc: 0.9233\n",
      "Epoch 95/100\n",
      "60000/60000 [==============================] - 4s 61us/step - loss: 0.2648 - acc: 0.9236\n",
      "Epoch 96/100\n",
      "60000/60000 [==============================] - 3s 56us/step - loss: 0.2639 - acc: 0.9244\n",
      "Epoch 97/100\n",
      "60000/60000 [==============================] - 5s 84us/step - loss: 0.2671 - acc: 0.9235\n",
      "Epoch 98/100\n",
      "60000/60000 [==============================] - 5s 80us/step - loss: 0.2647 - acc: 0.9243\n",
      "Epoch 99/100\n",
      "60000/60000 [==============================] - 5s 89us/step - loss: 0.2647 - acc: 0.9238\n",
      "Epoch 100/100\n",
      "60000/60000 [==============================] - 4s 66us/step - loss: 0.2661 - acc: 0.9233\n"
     ]
    },
    {
     "data": {
      "text/plain": [
       "<keras.callbacks.History at 0x116aa7588>"
      ]
     },
     "execution_count": 40,
     "metadata": {},
     "output_type": "execute_result"
    }
   ],
   "source": [
    "model.fit(X_train, y_train_hot, epochs=100)"
   ]
  },
  {
   "cell_type": "code",
   "execution_count": 41,
   "metadata": {},
   "outputs": [
    {
     "name": "stdout",
     "output_type": "stream",
     "text": [
      "Accuracy = 0.91890\n"
     ]
    },
    {
     "data": {
      "text/html": [
       "<div>\n",
       "<style>\n",
       "    .dataframe thead tr:only-child th {\n",
       "        text-align: right;\n",
       "    }\n",
       "\n",
       "    .dataframe thead th {\n",
       "        text-align: left;\n",
       "    }\n",
       "\n",
       "    .dataframe tbody tr th {\n",
       "        vertical-align: top;\n",
       "    }\n",
       "</style>\n",
       "<table border=\"1\" class=\"dataframe\">\n",
       "  <thead>\n",
       "    <tr style=\"text-align: right;\">\n",
       "      <th></th>\n",
       "      <th>y(actual)</th>\n",
       "      <th>y(predict)</th>\n",
       "    </tr>\n",
       "  </thead>\n",
       "  <tbody>\n",
       "    <tr>\n",
       "      <th>0</th>\n",
       "      <td>7</td>\n",
       "      <td>7</td>\n",
       "    </tr>\n",
       "    <tr>\n",
       "      <th>1</th>\n",
       "      <td>2</td>\n",
       "      <td>2</td>\n",
       "    </tr>\n",
       "    <tr>\n",
       "      <th>2</th>\n",
       "      <td>1</td>\n",
       "      <td>1</td>\n",
       "    </tr>\n",
       "    <tr>\n",
       "      <th>3</th>\n",
       "      <td>0</td>\n",
       "      <td>0</td>\n",
       "    </tr>\n",
       "    <tr>\n",
       "      <th>4</th>\n",
       "      <td>4</td>\n",
       "      <td>4</td>\n",
       "    </tr>\n",
       "    <tr>\n",
       "      <th>5</th>\n",
       "      <td>1</td>\n",
       "      <td>1</td>\n",
       "    </tr>\n",
       "    <tr>\n",
       "      <th>6</th>\n",
       "      <td>4</td>\n",
       "      <td>4</td>\n",
       "    </tr>\n",
       "    <tr>\n",
       "      <th>7</th>\n",
       "      <td>9</td>\n",
       "      <td>9</td>\n",
       "    </tr>\n",
       "    <tr>\n",
       "      <th>8</th>\n",
       "      <td>5</td>\n",
       "      <td>6</td>\n",
       "    </tr>\n",
       "    <tr>\n",
       "      <th>9</th>\n",
       "      <td>9</td>\n",
       "      <td>9</td>\n",
       "    </tr>\n",
       "    <tr>\n",
       "      <th>10</th>\n",
       "      <td>0</td>\n",
       "      <td>0</td>\n",
       "    </tr>\n",
       "    <tr>\n",
       "      <th>11</th>\n",
       "      <td>6</td>\n",
       "      <td>6</td>\n",
       "    </tr>\n",
       "    <tr>\n",
       "      <th>12</th>\n",
       "      <td>9</td>\n",
       "      <td>9</td>\n",
       "    </tr>\n",
       "    <tr>\n",
       "      <th>13</th>\n",
       "      <td>0</td>\n",
       "      <td>0</td>\n",
       "    </tr>\n",
       "    <tr>\n",
       "      <th>14</th>\n",
       "      <td>1</td>\n",
       "      <td>1</td>\n",
       "    </tr>\n",
       "  </tbody>\n",
       "</table>\n",
       "</div>"
      ],
      "text/plain": [
       "    y(actual)  y(predict)\n",
       "0           7           7\n",
       "1           2           2\n",
       "2           1           1\n",
       "3           0           0\n",
       "4           4           4\n",
       "5           1           1\n",
       "6           4           4\n",
       "7           9           9\n",
       "8           5           6\n",
       "9           9           9\n",
       "10          0           0\n",
       "11          6           6\n",
       "12          9           9\n",
       "13          0           0\n",
       "14          1           1"
      ]
     },
     "execution_count": 41,
     "metadata": {},
     "output_type": "execute_result"
    }
   ],
   "source": [
    "y_predict = model.predict(X_test)\n",
    "y_predict = np.argmax(y_predict, axis=1)\n",
    "\n",
    "accuracy = (y_predict == y_test).mean()\n",
    "\n",
    "print(\"Accuracy = {0:.5f}\".format(accuracy))\n",
    "pd.DataFrame({'y(actual)': y_test, 'y(predict)': y_predict}).head(15)"
   ]
  },
  {
   "cell_type": "markdown",
   "metadata": {},
   "source": [
    "### Multi-layer"
   ]
  },
  {
   "cell_type": "code",
   "execution_count": 75,
   "metadata": {},
   "outputs": [
    {
     "name": "stdout",
     "output_type": "stream",
     "text": [
      "-0.05799 ~ 0.05799\n"
     ]
    }
   ],
   "source": [
    "# sigmoid\n",
    "fanin = 784\n",
    "fanout = 1000\n",
    "\n",
    "minval = -np.sqrt(6 / (fanin + fanout))\n",
    "maxval = +np.sqrt(6 / (fanin + fanout))\n",
    "\n",
    "print(\"{0:.5f} ~ {1:.5f}\".format(minval, maxval))"
   ]
  },
  {
   "cell_type": "code",
   "execution_count": 48,
   "metadata": {
    "collapsed": true
   },
   "outputs": [],
   "source": [
    "from keras.models import Sequential\n",
    "from keras.layers import Dense\n",
    "from keras.initializers import RandomUniform\n",
    "from keras.optimizers import SGD\n",
    "\n",
    "model = Sequential()\n",
    "model.add(Dense(units=1000, \n",
    "                kernel_initializer=RandomUniform(minval=-0.058, maxval=+0.058),\n",
    "                activation='sigmoid', \n",
    "                input_dim=28*28))\n",
    "\n",
    "model.add(Dense(units=10, \n",
    "                kernel_initializer=RandomUniform(minval=-0.077, maxval=+0.077),\n",
    "                activation='sigmoid'))\n",
    "\n",
    "# loss = Cross Entropy\n",
    "# optimizer = Stochastic Gradient Descent (SGD)\n",
    "model.compile(loss='categorical_crossentropy', optimizer=SGD(lr=0.0001), metrics=['accuracy'])"
   ]
  },
  {
   "cell_type": "code",
   "execution_count": 49,
   "metadata": {
    "scrolled": true
   },
   "outputs": [
    {
     "name": "stdout",
     "output_type": "stream",
     "text": [
      "Epoch 1/10\n",
      "60000/60000 [==============================] - 14s 238us/step - loss: 2.1540 - acc: 0.2324\n",
      "Epoch 2/10\n",
      "60000/60000 [==============================] - 15s 250us/step - loss: 1.8067 - acc: 0.5068\n",
      "Epoch 3/10\n",
      "60000/60000 [==============================] - 15s 253us/step - loss: 1.4138 - acc: 0.6842\n",
      "Epoch 4/10\n",
      "60000/60000 [==============================] - 14s 237us/step - loss: 1.1164 - acc: 0.7656\n",
      "Epoch 5/10\n",
      "60000/60000 [==============================] - 15s 246us/step - loss: 0.9287 - acc: 0.8065\n",
      "Epoch 6/10\n",
      "60000/60000 [==============================] - 15s 255us/step - loss: 0.8068 - acc: 0.8304\n",
      "Epoch 7/10\n",
      "60000/60000 [==============================] - 14s 236us/step - loss: 0.7214 - acc: 0.8464\n",
      "Epoch 8/10\n",
      "60000/60000 [==============================] - 15s 247us/step - loss: 0.6586 - acc: 0.8577\n",
      "Epoch 9/10\n",
      "60000/60000 [==============================] - 16s 259us/step - loss: 0.6105 - acc: 0.8659\n",
      "Epoch 10/10\n",
      "60000/60000 [==============================] - 15s 253us/step - loss: 0.5721 - acc: 0.8731\n"
     ]
    },
    {
     "data": {
      "text/plain": [
       "<keras.callbacks.History at 0x11a0c2cc0>"
      ]
     },
     "execution_count": 49,
     "metadata": {},
     "output_type": "execute_result"
    }
   ],
   "source": [
    "model.fit(X_train, y_train_hot, epochs=10, validation_date(X_test, y_test_hot))"
   ]
  },
  {
   "cell_type": "code",
   "execution_count": 54,
   "metadata": {},
   "outputs": [
    {
     "name": "stdout",
     "output_type": "stream",
     "text": [
      "Accuracy = 0.87690\n"
     ]
    },
    {
     "data": {
      "text/html": [
       "<div>\n",
       "<style>\n",
       "    .dataframe thead tr:only-child th {\n",
       "        text-align: right;\n",
       "    }\n",
       "\n",
       "    .dataframe thead th {\n",
       "        text-align: left;\n",
       "    }\n",
       "\n",
       "    .dataframe tbody tr th {\n",
       "        vertical-align: top;\n",
       "    }\n",
       "</style>\n",
       "<table border=\"1\" class=\"dataframe\">\n",
       "  <thead>\n",
       "    <tr style=\"text-align: right;\">\n",
       "      <th></th>\n",
       "      <th>y(actual)</th>\n",
       "      <th>y(predict)</th>\n",
       "    </tr>\n",
       "  </thead>\n",
       "  <tbody>\n",
       "    <tr>\n",
       "      <th>0</th>\n",
       "      <td>7</td>\n",
       "      <td>7</td>\n",
       "    </tr>\n",
       "    <tr>\n",
       "      <th>1</th>\n",
       "      <td>2</td>\n",
       "      <td>6</td>\n",
       "    </tr>\n",
       "    <tr>\n",
       "      <th>2</th>\n",
       "      <td>1</td>\n",
       "      <td>1</td>\n",
       "    </tr>\n",
       "    <tr>\n",
       "      <th>3</th>\n",
       "      <td>0</td>\n",
       "      <td>0</td>\n",
       "    </tr>\n",
       "    <tr>\n",
       "      <th>4</th>\n",
       "      <td>4</td>\n",
       "      <td>4</td>\n",
       "    </tr>\n",
       "    <tr>\n",
       "      <th>5</th>\n",
       "      <td>1</td>\n",
       "      <td>1</td>\n",
       "    </tr>\n",
       "    <tr>\n",
       "      <th>6</th>\n",
       "      <td>4</td>\n",
       "      <td>4</td>\n",
       "    </tr>\n",
       "    <tr>\n",
       "      <th>7</th>\n",
       "      <td>9</td>\n",
       "      <td>9</td>\n",
       "    </tr>\n",
       "    <tr>\n",
       "      <th>8</th>\n",
       "      <td>5</td>\n",
       "      <td>2</td>\n",
       "    </tr>\n",
       "    <tr>\n",
       "      <th>9</th>\n",
       "      <td>9</td>\n",
       "      <td>9</td>\n",
       "    </tr>\n",
       "    <tr>\n",
       "      <th>10</th>\n",
       "      <td>0</td>\n",
       "      <td>0</td>\n",
       "    </tr>\n",
       "    <tr>\n",
       "      <th>11</th>\n",
       "      <td>6</td>\n",
       "      <td>6</td>\n",
       "    </tr>\n",
       "    <tr>\n",
       "      <th>12</th>\n",
       "      <td>9</td>\n",
       "      <td>9</td>\n",
       "    </tr>\n",
       "    <tr>\n",
       "      <th>13</th>\n",
       "      <td>0</td>\n",
       "      <td>0</td>\n",
       "    </tr>\n",
       "    <tr>\n",
       "      <th>14</th>\n",
       "      <td>1</td>\n",
       "      <td>1</td>\n",
       "    </tr>\n",
       "  </tbody>\n",
       "</table>\n",
       "</div>"
      ],
      "text/plain": [
       "    y(actual)  y(predict)\n",
       "0           7           7\n",
       "1           2           6\n",
       "2           1           1\n",
       "3           0           0\n",
       "4           4           4\n",
       "5           1           1\n",
       "6           4           4\n",
       "7           9           9\n",
       "8           5           2\n",
       "9           9           9\n",
       "10          0           0\n",
       "11          6           6\n",
       "12          9           9\n",
       "13          0           0\n",
       "14          1           1"
      ]
     },
     "execution_count": 54,
     "metadata": {},
     "output_type": "execute_result"
    }
   ],
   "source": [
    "y_predict = model.predict(X_test)\n",
    "y_predict = np.argmax(y_predict, axis=1)\n",
    "\n",
    "accuracy = (y_predict == y_test).mean()\n",
    "\n",
    "print(\"Accuracy = {0:.5f}\".format(accuracy))\n",
    "pd.DataFrame({'y(actual)': y_test, 'y(predict)': y_predict}).head(15)"
   ]
  },
  {
   "cell_type": "markdown",
   "metadata": {},
   "source": [
    "## Keras 를 가지고 95% 이상"
   ]
  },
  {
   "cell_type": "code",
   "execution_count": null,
   "metadata": {
    "collapsed": true
   },
   "outputs": [],
   "source": []
  },
  {
   "cell_type": "code",
   "execution_count": null,
   "metadata": {
    "collapsed": true
   },
   "outputs": [],
   "source": []
  },
  {
   "cell_type": "code",
   "execution_count": null,
   "metadata": {
    "collapsed": true
   },
   "outputs": [],
   "source": []
  },
  {
   "cell_type": "code",
   "execution_count": null,
   "metadata": {
    "collapsed": true
   },
   "outputs": [],
   "source": []
  },
  {
   "cell_type": "code",
   "execution_count": null,
   "metadata": {
    "collapsed": true
   },
   "outputs": [],
   "source": []
  }
 ],
 "metadata": {
  "kernelspec": {
   "display_name": "Python 3",
   "language": "python",
   "name": "python3"
  },
  "language_info": {
   "codemirror_mode": {
    "name": "ipython",
    "version": 3
   },
   "file_extension": ".py",
   "mimetype": "text/x-python",
   "name": "python",
   "nbconvert_exporter": "python",
   "pygments_lexer": "ipython3",
   "version": "3.6.3"
  }
 },
 "nbformat": 4,
 "nbformat_minor": 2
}
