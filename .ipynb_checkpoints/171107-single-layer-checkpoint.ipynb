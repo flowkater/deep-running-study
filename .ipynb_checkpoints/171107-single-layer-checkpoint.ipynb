{
 "cells": [
  {
   "cell_type": "code",
   "execution_count": 1,
   "metadata": {},
   "outputs": [],
   "source": [
    "import numpy as np\n",
    "%matplotlib inline\n",
    "import matplotlib.pyplot as plt"
   ]
  },
  {
   "cell_type": "code",
   "execution_count": 2,
   "metadata": {},
   "outputs": [
    {
     "data": {
      "text/plain": [
       "0.35790732116393964"
      ]
     },
     "execution_count": 2,
     "metadata": {},
     "output_type": "execute_result"
    }
   ],
   "source": [
    "# uniform 분포 주사위 분포\n",
    "np.random.uniform(low=0.0, high=1.0)"
   ]
  },
  {
   "cell_type": "markdown",
   "metadata": {},
   "source": [
    "## Generate Dataset"
   ]
  },
  {
   "cell_type": "code",
   "execution_count": 3,
   "metadata": {},
   "outputs": [],
   "source": [
    "# x = np.random.uniform(low=0.0, high=1.0, size=100)\n",
    "# print(x.shape)\n",
    "\n",
    "# x[:10]"
   ]
  },
  {
   "cell_type": "code",
   "execution_count": 4,
   "metadata": {},
   "outputs": [
    {
     "name": "stdout",
     "output_type": "stream",
     "text": [
      "(100,)\n"
     ]
    },
    {
     "data": {
      "text/plain": [
       "array([ 0.42787751,  0.97010189,  0.04801786,  0.50268836,  0.08229988,\n",
       "        0.1386973 ,  0.34997605,  0.87052722,  0.54996296,  0.98108602])"
      ]
     },
     "execution_count": 4,
     "metadata": {},
     "output_type": "execute_result"
    }
   ],
   "source": [
    "x1 = np.random.uniform(low=0.0, high=1.0, size=100)\n",
    "print(x1.shape)\n",
    "\n",
    "x1[:10]"
   ]
  },
  {
   "cell_type": "code",
   "execution_count": 5,
   "metadata": {},
   "outputs": [
    {
     "name": "stdout",
     "output_type": "stream",
     "text": [
      "(100,)\n"
     ]
    },
    {
     "data": {
      "text/plain": [
       "array([ 0.11821357,  0.53303083,  0.95315903,  0.31861475,  0.85769167,\n",
       "        0.60635732,  0.36737935,  0.38095924,  0.65981863,  0.8156721 ])"
      ]
     },
     "execution_count": 5,
     "metadata": {},
     "output_type": "execute_result"
    }
   ],
   "source": [
    "x2 = np.random.uniform(low=0.0, high=1.0, size=100)\n",
    "print(x2.shape)\n",
    "\n",
    "x2[:10]"
   ]
  },
  {
   "cell_type": "code",
   "execution_count": 8,
   "metadata": {},
   "outputs": [
    {
     "name": "stdout",
     "output_type": "stream",
     "text": [
      "(100,)\n"
     ]
    },
    {
     "data": {
      "text/plain": [
       "array([ 0.29284975,  0.66494549,  0.60077652,  0.41074678,  0.56057078,\n",
       "        0.45066519,  0.39203781,  0.55486563,  0.59856969,  0.80436935])"
      ]
     },
     "execution_count": 8,
     "metadata": {},
     "output_type": "execute_result"
    }
   ],
   "source": [
    "y = x1 * 0.3 + x2 * 0.5 + 0.1 + (np.random.uniform(low=0.0, high=1.0, size=100) * 0.01) # 0.1 bias\n",
    "print(y.shape)\n",
    "\n",
    "y[:10]"
   ]
  },
  {
   "cell_type": "code",
   "execution_count": 7,
   "metadata": {
    "scrolled": true
   },
   "outputs": [],
   "source": [
    "# plt.scatter(x, y)"
   ]
  },
  {
   "cell_type": "markdown",
   "metadata": {},
   "source": [
    "## y = wx"
   ]
  },
  {
   "cell_type": "markdown",
   "metadata": {},
   "source": [
    "## Case 1 - Random Search"
   ]
  },
  {
   "cell_type": "markdown",
   "metadata": {},
   "source": [
    "범위가 한정적이고 느리다."
   ]
  },
  {
   "cell_type": "code",
   "execution_count": 9,
   "metadata": {},
   "outputs": [],
   "source": [
    "# num_epoch = 100\n",
    "\n",
    "# best_error = np.inf\n",
    "# best_w = None\n",
    "\n",
    "# for epoch in range(num_epoch):\n",
    "#     w = np.random.uniform(low=0.0, high=1.0)\n",
    "#     y_predict = x * w\n",
    "    \n",
    "#     error = np.abs(y_predict - y).mean()\n",
    "    \n",
    "#     if error < best_error:\n",
    "#         best_error = error\n",
    "#         best_w = w\n",
    "        \n",
    "#         print(\"{0:2} w = {1:.5f} error = {2:.5f}\".format(epoch, w, error))\n",
    "    \n",
    "# print(\"----\" * 10)\n",
    "# print(\"{0:2} w = {1:.5f} error = {2:.5f}\".format(epoch, best_w, best_error))"
   ]
  },
  {
   "cell_type": "code",
   "execution_count": 24,
   "metadata": {},
   "outputs": [
    {
     "name": "stdout",
     "output_type": "stream",
     "text": [
      " 0 w1 = 0.26351, w2 = 0.88314, b = 0.68613 error = 0.75437\n",
      " 1 w1 = 0.12299, w2 = 0.48308, b = 0.69306 error = 0.48742\n",
      " 2 w1 = 0.86456, w2 = 0.09342, b = 0.04478 error = 0.17809\n",
      " 9 w1 = 0.18736, w2 = 0.94329, b = 0.05042 error = 0.13755\n",
      "21 w1 = 0.19784, w2 = 0.92475, b = 0.05346 error = 0.13340\n",
      "38 w1 = 0.16158, w2 = 0.37666, b = 0.30375 error = 0.06974\n",
      "44 w1 = 0.29272, w2 = 0.31309, b = 0.15966 error = 0.05316\n",
      "64 w1 = 0.37179, w2 = 0.48826, b = 0.04024 error = 0.03395\n",
      "999 w1 = 0.23030, w2 = 0.59010, b = 0.07568 error = 0.03230\n",
      "1235 w1 = 0.23395, w2 = 0.45086, b = 0.18357 error = 0.02489\n",
      "1268 w1 = 0.26902, w2 = 0.55864, b = 0.08078 error = 0.01832\n",
      "1656 w1 = 0.28167, w2 = 0.47395, b = 0.13523 error = 0.00953\n",
      "----------------------------------------\n",
      "9999 w1 = 0.28167, w2 = 0.47395, b = 0.13523 error = 0.00953\n"
     ]
    }
   ],
   "source": [
    "num_epoch = 10000\n",
    "\n",
    "best_error = np.inf\n",
    "best_w1 = None\n",
    "best_w2 = None\n",
    "best_b = None\n",
    "\n",
    "for epoch in range(num_epoch):\n",
    "    w1 = np.random.uniform(low=0.0, high=1.0)\n",
    "    w2 = np.random.uniform(low=0.0, high=1.0)\n",
    "    b = np.random.uniform(low=0.0, high=1.0)\n",
    "    \n",
    "    y_predict = x1 * w1 + x2 * w2 + b\n",
    "    \n",
    "    error = np.abs(y_predict - y).mean()\n",
    "    \n",
    "    if error < best_error:\n",
    "        best_error = error\n",
    "        best_w1 = w1\n",
    "        best_w2 = w2\n",
    "        best_b = b\n",
    "        \n",
    "        print(\"{0:2} w1 = {1:.5f}, w2 = {2:.5f}, b = {3:.5f} error = {4:.5f}\".format(epoch, w1, w2, b, error))\n",
    "    \n",
    "print(\"----\" * 10)\n",
    "print(\"{0:2} w1 = {1:.5f}, w2 = {2:.5f}, b = {3:.5f} error = {4:.5f}\".format(epoch, best_w1, best_w2, best_b, best_error))"
   ]
  },
  {
   "cell_type": "markdown",
   "metadata": {},
   "source": [
    "## Case 2 - h-step Search"
   ]
  },
  {
   "cell_type": "code",
   "execution_count": 137,
   "metadata": {},
   "outputs": [
    {
     "name": "stdout",
     "output_type": "stream",
     "text": [
      "40 w = 0.30975 error = 0.00332\n"
     ]
    }
   ],
   "source": [
    "num_epoch = 1000\n",
    "\n",
    "w = np.random.uniform(low=0.0, high=1.0)\n",
    "h = 0.01\n",
    "\n",
    "for epoch in range(num_epoch):\n",
    "    y_predict = x * w\n",
    "    current_error = np.abs(y_predict - y).mean()\n",
    "    \n",
    "    y_predict = x * (w + h)\n",
    "    h_plus_error = np.abs(y_predict - y).mean()\n",
    "    if h_plus_error < current_error:\n",
    "        w = w + h\n",
    "        continue\n",
    "        \n",
    "    y_predict = x * (w - h)\n",
    "    h_minus_error = np.abs(y_predict - y).mean()\n",
    "    if h_minus_error < current_error:\n",
    "        w = w - h\n",
    "        continue\n",
    "        \n",
    "    break\n",
    "    \n",
    "print(\"{0:2} w = {1:.5f} error = {2:.5f}\".format(epoch, w, current_error))"
   ]
  },
  {
   "cell_type": "markdown",
   "metadata": {},
   "source": [
    "- w1, w2 집에서 짜보기"
   ]
  },
  {
   "cell_type": "markdown",
   "metadata": {},
   "source": [
    "## Case 3 - Gradient Descent"
   ]
  },
  {
   "cell_type": "code",
   "execution_count": 37,
   "metadata": {
    "scrolled": true
   },
   "outputs": [],
   "source": [
    "# num_epoch = 100\n",
    "\n",
    "# # w = np.random.uniform(low=0.0, high=1.0)\n",
    "# w = -9999\n",
    "\n",
    "# for epoch in range(num_epoch):\n",
    "#     y_predict = x * w\n",
    "    \n",
    "#     error = np.abs(y_predict - y).mean()\n",
    "#     if error < 0.005:\n",
    "#         break\n",
    "        \n",
    "#     w = w - (y_predict - y).mean()\n",
    "    \n",
    "#     print(\"{0:2} w = {1:.5f}, error = {2:.5f}\".format(epoch, w, error))\n",
    "\n",
    "# print(\"-----\" * 10)\n",
    "# print(\"{0:2} w = {1:.5f}, error = {2:.5f}\".format(epoch, w, error))"
   ]
  },
  {
   "cell_type": "code",
   "execution_count": 57,
   "metadata": {},
   "outputs": [
    {
     "name": "stdout",
     "output_type": "stream",
     "text": [
      " 0 w1 = 3538.59639, w2 = 2951.13520, b = 14248.35511, error = 20206.12926\n",
      "10 w1 = -88.91716, w2 = -505.27590, b = 4065.96122, error = 4224.84926\n",
      "20 w1 = -484.83158, w2 = -756.27151, b = 1456.03498, error = 870.80876\n",
      "30 w1 = -364.15864, w2 = -531.12343, b = 646.06739, error = 224.70759\n",
      "40 w1 = -224.57811, w2 = -323.75296, b = 328.58250, error = 101.27193\n",
      "50 w1 = -130.91473, w2 = -188.62607, b = 178.50774, error = 55.65032\n",
      "60 w1 = -74.87400, w2 = -108.04314, b = 99.69510, error = 31.38389\n",
      "70 w1 = -42.50557, w2 = -61.41145, b = 56.29891, error = 17.78398\n",
      "80 w1 = -24.02659, w2 = -34.72718, b = 31.94256, error = 10.09246\n",
      "90 w1 = -13.51701, w2 = -19.52407, b = 18.17111, error = 5.73097\n",
      "100 w1 = -7.54673, w2 = -10.87749, b = 10.36262, error = 3.25504\n",
      "110 w1 = -4.15608, w2 = -5.96346, b = 5.93044, error = 1.84890\n",
      "120 w1 = -2.23051, w2 = -3.17161, b = 3.41368, error = 1.05027\n",
      "130 w1 = -1.13693, w2 = -1.58567, b = 1.98434, error = 0.59666\n",
      "140 w1 = -0.51584, w2 = -0.68482, b = 1.17253, error = 0.33902\n",
      "150 w1 = -0.16308, w2 = -0.17314, b = 0.71145, error = 0.19269\n",
      "160 w1 = 0.03728, w2 = 0.11750, b = 0.44956, error = 0.10957\n",
      "170 w1 = 0.15107, w2 = 0.28257, b = 0.30081, error = 0.06236\n",
      "180 w1 = 0.21571, w2 = 0.37633, b = 0.21632, error = 0.03555\n",
      "190 w1 = 0.25242, w2 = 0.42959, b = 0.16834, error = 0.02032\n",
      "200 w1 = 0.27327, w2 = 0.45984, b = 0.14108, error = 0.01168\n",
      "210 w1 = 0.28511, w2 = 0.47702, b = 0.12560, error = 0.00693\n",
      "--------------------------------------------------\n",
      "218 w1 = 0.29021, w2 = 0.48440, b = 0.11894, error = 0.00481\n"
     ]
    }
   ],
   "source": [
    "num_epoch = 1000\n",
    "learning_rate = 1.2\n",
    "\n",
    "# w1 = np.random.uniform(low=0.0, high=1.0)\n",
    "# w2 = np.random.uniform(low=0.0, high=1.0)\n",
    "# b = np.random.uniform(low=0.0, high=1.0)\n",
    "w1 = -9999\n",
    "w2 = -9999\n",
    "b = -9999\n",
    "\n",
    "for epoch in range(num_epoch):\n",
    "    y_predict = x1 * w1 + x2 * w2 + b\n",
    "#     y_predict = x1 * w1 + x2 * w2 + x3(1) * b\n",
    "    \n",
    "    error = np.abs(y_predict - y).mean()\n",
    "    if error < 0.005:\n",
    "        break\n",
    "        \n",
    "    w1 = w1 - learning_rate * ((y_predict - y) * x1).mean()\n",
    "    w2 = w2 - learning_rate * ((y_predict - y) * x2).mean()\n",
    "    b = b - learning_rate * ((y_predict - y)).mean()\n",
    "    \n",
    "    if epoch % 10 == 0:\n",
    "        print(\"{0:2} w1 = {1:.5f}, w2 = {2:.5f}, b = {3:.5f}, error = {4:.5f}\".format(epoch, w1, w2, b, error))\n",
    "\n",
    "print(\"-----\" * 10)\n",
    "print(\"{0:2} w1 = {1:.5f}, w2 = {2:.5f}, b = {3:.5f}, error = {4:.5f}\".format(epoch, w1, w2, b, error))"
   ]
  },
  {
   "cell_type": "markdown",
   "metadata": {},
   "source": [
    "## Boston Housing Dataset"
   ]
  },
  {
   "cell_type": "code",
   "execution_count": 58,
   "metadata": {
    "collapsed": true
   },
   "outputs": [],
   "source": [
    "from sklearn.datasets import load_boston\n",
    "\n",
    "boston = load_boston()"
   ]
  },
  {
   "cell_type": "code",
   "execution_count": 59,
   "metadata": {},
   "outputs": [
    {
     "name": "stdout",
     "output_type": "stream",
     "text": [
      "(506, 13)\n"
     ]
    },
    {
     "data": {
      "text/plain": [
       "array([  6.32000000e-03,   1.80000000e+01,   2.31000000e+00,\n",
       "         0.00000000e+00,   5.38000000e-01,   6.57500000e+00,\n",
       "         6.52000000e+01,   4.09000000e+00,   1.00000000e+00,\n",
       "         2.96000000e+02,   1.53000000e+01,   3.96900000e+02,\n",
       "         4.98000000e+00])"
      ]
     },
     "execution_count": 59,
     "metadata": {},
     "output_type": "execute_result"
    }
   ],
   "source": [
    "X = boston[\"data\"]\n",
    "\n",
    "print(X.shape)\n",
    "X[0]"
   ]
  },
  {
   "cell_type": "code",
   "execution_count": 60,
   "metadata": {},
   "outputs": [
    {
     "name": "stdout",
     "output_type": "stream",
     "text": [
      "(506,)\n"
     ]
    },
    {
     "data": {
      "text/plain": [
       "24.0"
      ]
     },
     "execution_count": 60,
     "metadata": {},
     "output_type": "execute_result"
    }
   ],
   "source": [
    "y = boston[\"target\"]\n",
    "\n",
    "print(y.shape)\n",
    "y[0]"
   ]
  },
  {
   "cell_type": "code",
   "execution_count": 62,
   "metadata": {},
   "outputs": [
    {
     "name": "stdout",
     "output_type": "stream",
     "text": [
      "(506, 14)\n"
     ]
    },
    {
     "data": {
      "text/html": [
       "<div>\n",
       "<style>\n",
       "    .dataframe thead tr:only-child th {\n",
       "        text-align: right;\n",
       "    }\n",
       "\n",
       "    .dataframe thead th {\n",
       "        text-align: left;\n",
       "    }\n",
       "\n",
       "    .dataframe tbody tr th {\n",
       "        vertical-align: top;\n",
       "    }\n",
       "</style>\n",
       "<table border=\"1\" class=\"dataframe\">\n",
       "  <thead>\n",
       "    <tr style=\"text-align: right;\">\n",
       "      <th></th>\n",
       "      <th>CRIM</th>\n",
       "      <th>ZN</th>\n",
       "      <th>INDUS</th>\n",
       "      <th>CHAS</th>\n",
       "      <th>NOX</th>\n",
       "      <th>RM</th>\n",
       "      <th>AGE</th>\n",
       "      <th>DIS</th>\n",
       "      <th>RAD</th>\n",
       "      <th>TAX</th>\n",
       "      <th>PTRATIO</th>\n",
       "      <th>B</th>\n",
       "      <th>LSTAT</th>\n",
       "      <th>PRICE</th>\n",
       "    </tr>\n",
       "  </thead>\n",
       "  <tbody>\n",
       "    <tr>\n",
       "      <th>0</th>\n",
       "      <td>0.00632</td>\n",
       "      <td>18.0</td>\n",
       "      <td>2.31</td>\n",
       "      <td>0.0</td>\n",
       "      <td>0.538</td>\n",
       "      <td>6.575</td>\n",
       "      <td>65.2</td>\n",
       "      <td>4.0900</td>\n",
       "      <td>1.0</td>\n",
       "      <td>296.0</td>\n",
       "      <td>15.3</td>\n",
       "      <td>396.90</td>\n",
       "      <td>4.98</td>\n",
       "      <td>24.0</td>\n",
       "    </tr>\n",
       "    <tr>\n",
       "      <th>1</th>\n",
       "      <td>0.02731</td>\n",
       "      <td>0.0</td>\n",
       "      <td>7.07</td>\n",
       "      <td>0.0</td>\n",
       "      <td>0.469</td>\n",
       "      <td>6.421</td>\n",
       "      <td>78.9</td>\n",
       "      <td>4.9671</td>\n",
       "      <td>2.0</td>\n",
       "      <td>242.0</td>\n",
       "      <td>17.8</td>\n",
       "      <td>396.90</td>\n",
       "      <td>9.14</td>\n",
       "      <td>21.6</td>\n",
       "    </tr>\n",
       "    <tr>\n",
       "      <th>2</th>\n",
       "      <td>0.02729</td>\n",
       "      <td>0.0</td>\n",
       "      <td>7.07</td>\n",
       "      <td>0.0</td>\n",
       "      <td>0.469</td>\n",
       "      <td>7.185</td>\n",
       "      <td>61.1</td>\n",
       "      <td>4.9671</td>\n",
       "      <td>2.0</td>\n",
       "      <td>242.0</td>\n",
       "      <td>17.8</td>\n",
       "      <td>392.83</td>\n",
       "      <td>4.03</td>\n",
       "      <td>34.7</td>\n",
       "    </tr>\n",
       "    <tr>\n",
       "      <th>3</th>\n",
       "      <td>0.03237</td>\n",
       "      <td>0.0</td>\n",
       "      <td>2.18</td>\n",
       "      <td>0.0</td>\n",
       "      <td>0.458</td>\n",
       "      <td>6.998</td>\n",
       "      <td>45.8</td>\n",
       "      <td>6.0622</td>\n",
       "      <td>3.0</td>\n",
       "      <td>222.0</td>\n",
       "      <td>18.7</td>\n",
       "      <td>394.63</td>\n",
       "      <td>2.94</td>\n",
       "      <td>33.4</td>\n",
       "    </tr>\n",
       "    <tr>\n",
       "      <th>4</th>\n",
       "      <td>0.06905</td>\n",
       "      <td>0.0</td>\n",
       "      <td>2.18</td>\n",
       "      <td>0.0</td>\n",
       "      <td>0.458</td>\n",
       "      <td>7.147</td>\n",
       "      <td>54.2</td>\n",
       "      <td>6.0622</td>\n",
       "      <td>3.0</td>\n",
       "      <td>222.0</td>\n",
       "      <td>18.7</td>\n",
       "      <td>396.90</td>\n",
       "      <td>5.33</td>\n",
       "      <td>36.2</td>\n",
       "    </tr>\n",
       "  </tbody>\n",
       "</table>\n",
       "</div>"
      ],
      "text/plain": [
       "      CRIM    ZN  INDUS  CHAS    NOX     RM   AGE     DIS  RAD    TAX  \\\n",
       "0  0.00632  18.0   2.31   0.0  0.538  6.575  65.2  4.0900  1.0  296.0   \n",
       "1  0.02731   0.0   7.07   0.0  0.469  6.421  78.9  4.9671  2.0  242.0   \n",
       "2  0.02729   0.0   7.07   0.0  0.469  7.185  61.1  4.9671  2.0  242.0   \n",
       "3  0.03237   0.0   2.18   0.0  0.458  6.998  45.8  6.0622  3.0  222.0   \n",
       "4  0.06905   0.0   2.18   0.0  0.458  7.147  54.2  6.0622  3.0  222.0   \n",
       "\n",
       "   PTRATIO       B  LSTAT  PRICE  \n",
       "0     15.3  396.90   4.98   24.0  \n",
       "1     17.8  396.90   9.14   21.6  \n",
       "2     17.8  392.83   4.03   34.7  \n",
       "3     18.7  394.63   2.94   33.4  \n",
       "4     18.7  396.90   5.33   36.2  "
      ]
     },
     "execution_count": 62,
     "metadata": {},
     "output_type": "execute_result"
    }
   ],
   "source": [
    "import pandas as pd\n",
    "\n",
    "data = pd.DataFrame(X, columns=boston[\"feature_names\"])\n",
    "data[\"PRICE\"] = y\n",
    "\n",
    "print(data.shape)\n",
    "data.head()"
   ]
  },
  {
   "cell_type": "code",
   "execution_count": 69,
   "metadata": {},
   "outputs": [],
   "source": [
    "x1 = np.array(data[\"CRIM\"])\n",
    "x2 = np.array(data[\"ZN\"])\n",
    "x3 = np.array(data[\"INDUS\"])\n",
    "x4 = np.array(data[\"CHAS\"])\n",
    "x5 = np.array(data[\"NOX\"])\n",
    "x6 = np.array(data[\"RM\"])\n",
    "x7 = np.array(data[\"AGE\"])\n",
    "x8 = np.array(data[\"DIS\"])\n",
    "x9 = np.array(data[\"RAD\"])\n",
    "x10 = np.array(data[\"TAX\"])\n",
    "x11 = np.array(data[\"PTRATIO\"])\n",
    "x12 = np.array(data[\"B\"])\n",
    "x13 = np.array(data[\"LSTAT\"])"
   ]
  },
  {
   "cell_type": "code",
   "execution_count": 82,
   "metadata": {},
   "outputs": [
    {
     "name": "stdout",
     "output_type": "stream",
     "text": [
      " 0 w1 = -9.60311, error = 299467.01588\n",
      "100 w1 = -6304862299727337105607598765244416.00000, error = 207670899593278111080141749258823925760.00000\n",
      "200 w1 = -4378647067976116687183652772644235207619215992349158011534120583168.00000, error = 144224811324966484285254482274937059740710485316379015593792409226444800.00000\n",
      "300 w1 = -3040914969185762198729515298446983190533795665647454685592947498342764856971539799923626740172193792.00000, error = 100162306045095230351469789065188127579200096594545406192046380997666435991565672554189608699581008183296.00000\n",
      "400 w1 = -2111876957941768497106567438359180030510741589808181346093908994450007777594256395918210117230443184138502677954050276754264225218560.00000, error = 69561453817167337655421296923484806500461438778314692908937769488225522851584429498915196118027452862769389638178948550466905862882459648.00000\n",
      "500 w1 = -1466671817752140813683241696655365917163433896479090232946328194411505219020536964028226718047615081793221757519515248655081762907576312860055948643705217614880964608.00000, error = 48309549252783474431244207748932426247283868368584113055854762391409426113101499074359377764659831042422422332837713233404687223644022182277705295442324703976042476339200.00000\n",
      "600 w1 = -1018585014102742748037428987513560970835260068061646777012873560972146209543004203407520883361658773003269049751901237941689684678063762764298601577754704862588234241113749175418226929479012017242112.00000, error = 33550370513261863545104964831297875681773194837494610184114609721788874303250713308816396911644320040408107956596088251936705609623497059062403608829900186201564270258335340154852828487993503786666557440.00000\n",
      "700 w1 = -707394400299316350158434874372474852705094732845559380337215991072840791019964823647409535157088557339669214181356605447917424674806393177394027225791212515776771079616210232627312380732964808190432317887638594980609949764702699520.00000, error = 23300307682177224403503478935466212349485523111451821989944592225950264206880144780383834059570064813752479836478066778445231956893952749339138871485758955812858639870867245219833361193929085001560156391915969132238930210848994089762816.00000\n",
      "800 w1 = -491276457680490817322042224766364582994089421363426341534094583029466214733834760196712799227192383458805711393515579876589152766223222168967016781113641740101803126975843484823612399051612262283863762687254834900154666674480316675540657277867173537112303331180544.00000, error = 16181768778664475398045486291555178793122795418859800085605301628186186772671372143847388096723111665574837839872552344872902231403264929755754593337643883663748649666723016080521777931401841940279579688140952640244945089556119283835906487432472770659423917551585853440.00000\n",
      "900 w1 = -341185281886552993687995893338613913643256361516758721801652403445693557765415329166274760922124807102242112553887547410681384024874546394147725337225541886639159510060248517949472356002392940231664545566959044834360178395169687907598218877968548569744016362634065421239294871667206828624120381440.00000, error = 11238033607876064727155967946932664732835356910852865291340833029088038933661180015015600298817156745196130479365018135253208245992289563535503879037275470641662793243670443086716583998651034494642104127362395994343612428888715281077267573724260036037300567571801875746666975755079273615661446557859840.00000\n",
      "--------------------------------------------------\n",
      "999 w1 = nan, error = nan\n"
     ]
    },
    {
     "name": "stderr",
     "output_type": "stream",
     "text": [
      "/usr/local/lib/python3.6/site-packages/ipykernel_launcher.py:27: RuntimeWarning: invalid value encountered in multiply\n",
      "/usr/local/lib/python3.6/site-packages/ipykernel_launcher.py:29: RuntimeWarning: invalid value encountered in multiply\n",
      "/usr/local/lib/python3.6/site-packages/ipykernel_launcher.py:35: RuntimeWarning: invalid value encountered in double_scalars\n",
      "/usr/local/lib/python3.6/site-packages/ipykernel_launcher.py:37: RuntimeWarning: invalid value encountered in double_scalars\n"
     ]
    }
   ],
   "source": [
    "num_epoch = 1000\n",
    "learning_rate = 0.00001\n",
    "\n",
    "w1 = x1.mean()\n",
    "w2 = x2.mean()\n",
    "w3 = x3.mean()\n",
    "w4 = x4.mean()\n",
    "w5 = x5.mean()\n",
    "w6 = x6.mean()\n",
    "w7 = x7.mean()\n",
    "w8 = x8.mean()\n",
    "w9 = x9.mean()\n",
    "w10 = x10.mean()\n",
    "w11 = x11.mean()\n",
    "w12 = x12.mean()\n",
    "w13 = x13.mean()\n",
    "b = np.random.uniform(low=0.0, high=1.0)\n",
    "\n",
    "for epoch in range(num_epoch):\n",
    "    y_predict = x1 * w1 + x2 * w2 + x3 * w3 + x4 * w4 + x5 * w5 + x6 * w6 \\\n",
    "                 + x7 * w7 + x8 * w8 + x9 * w9 + x10 * w10 + x11 * w11 + x12 * w12 + x13 * w13 + b\n",
    "    \n",
    "    error = np.abs(y_predict - y).mean()\n",
    "    if error < 0.005:\n",
    "        break\n",
    "        \n",
    "    w1 = w1 - learning_rate * ((y_predict - y) * x1).mean()\n",
    "    w2 = w2 - learning_rate * ((y_predict - y) * x2).mean()\n",
    "    w3 = w3 - learning_rate * ((y_predict - y) * x3).mean()\n",
    "    w4 = w4 - learning_rate * ((y_predict - y) * x4).mean()\n",
    "    w5 = w5 - learning_rate * ((y_predict - y) * x5).mean()\n",
    "    w6 = w6 - learning_rate * ((y_predict - y) * x6).mean()\n",
    "    w7 = w7 - learning_rate * ((y_predict - y) * x7).mean()\n",
    "    w8 = w8 - learning_rate * ((y_predict - y) * x8).mean()\n",
    "    w9 = w9 - learning_rate * ((y_predict - y) * x9).mean()\n",
    "    w10 = w10 - learning_rate * ((y_predict - y) * x10).mean()\n",
    "    w11 = w11 - learning_rate * ((y_predict - y) * x11).mean()\n",
    "    w12 = w12 - learning_rate * ((y_predict - y) * x12).mean()\n",
    "    w13 = w13 - learning_rate * ((y_predict - y) * x13).mean()\n",
    "    b = b - learning_rate * ((y_predict - y)).mean()\n",
    "    \n",
    "    if epoch % 100 == 0:\n",
    "        print(\"{0:2} w1 = {1:.5f}, b = {2:.5f} error = {3:.5f}\".format(epoch, w1, b, error))\n",
    "#         print(\"{0:2} w1 = {1:.5f}, w2 = {2:.5f}, b = {3:.5f}, error = {4:.5f}\".format(epoch, w1, w2, b, error))\n",
    "\n",
    "print(\"-----\" * 10)\n",
    "print(\"{0:2} w1 = {1:.5f}, error = {2:.5f}\".format(epoch, w1, error))\n",
    "# print(\"{0:2} w1 = {1:.5f}, w2 = {2:.5f}, b = {3:.5f}, error = {4:.5f}\".format(epoch, w1, w2, b, error))"
   ]
  },
  {
   "cell_type": "code",
   "execution_count": null,
   "metadata": {
    "collapsed": true
   },
   "outputs": [],
   "source": [
    "# "
   ]
  },
  {
   "cell_type": "code",
   "execution_count": null,
   "metadata": {
    "collapsed": true
   },
   "outputs": [],
   "source": []
  },
  {
   "cell_type": "code",
   "execution_count": null,
   "metadata": {
    "collapsed": true
   },
   "outputs": [],
   "source": []
  },
  {
   "cell_type": "code",
   "execution_count": null,
   "metadata": {
    "collapsed": true
   },
   "outputs": [],
   "source": []
  },
  {
   "cell_type": "code",
   "execution_count": null,
   "metadata": {
    "collapsed": true
   },
   "outputs": [],
   "source": []
  },
  {
   "cell_type": "code",
   "execution_count": null,
   "metadata": {
    "collapsed": true
   },
   "outputs": [],
   "source": []
  },
  {
   "cell_type": "code",
   "execution_count": null,
   "metadata": {
    "collapsed": true
   },
   "outputs": [],
   "source": []
  }
 ],
 "metadata": {
  "kernelspec": {
   "display_name": "Python 3",
   "language": "python",
   "name": "python3"
  },
  "language_info": {
   "codemirror_mode": {
    "name": "ipython",
    "version": 3
   },
   "file_extension": ".py",
   "mimetype": "text/x-python",
   "name": "python",
   "nbconvert_exporter": "python",
   "pygments_lexer": "ipython3",
   "version": "3.6.1"
  }
 },
 "nbformat": 4,
 "nbformat_minor": 2
}
